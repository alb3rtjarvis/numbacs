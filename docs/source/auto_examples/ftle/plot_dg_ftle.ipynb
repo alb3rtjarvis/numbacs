{
  "cells": [
    {
      "cell_type": "markdown",
      "metadata": {},
      "source": [
        "\n# Double gyre FTLE\n\nCompute the FTLE field for the double gyre.\n"
      ]
    },
    {
      "cell_type": "code",
      "execution_count": null,
      "metadata": {
        "collapsed": false
      },
      "outputs": [],
      "source": [
        "# Author: ajarvis\n\nimport numpy as np\nfrom math import copysign\nimport matplotlib.pyplot as plt\nfrom numbacs.flows import get_predefined_flow\nfrom numbacs.integration import flowmap_grid_2D\nfrom numbacs.diagnostics import ftle_grid_2D"
      ]
    },
    {
      "cell_type": "markdown",
      "metadata": {},
      "source": [
        "## Get flow\nSet the integration span and direction, retrieve the flow, and set up domain.\n\n"
      ]
    },
    {
      "cell_type": "code",
      "execution_count": null,
      "metadata": {
        "collapsed": false
      },
      "outputs": [],
      "source": [
        "# set initial time, integration time, and integration direction\nt0 = 0.0\nT = -10.0\nint_direction = copysign(1, T)\n\n# retrieve function pointer, parameters, and domain for double gyre flow.\nfuncptr, params, domain = get_predefined_flow(\"double_gyre\", int_direction=int_direction)\n\n# set up domain\nnx, ny = 401, 201\nx = np.linspace(domain[0][0], domain[0][1], nx)\ny = np.linspace(domain[1][0], domain[1][1], ny)\ndx = x[1] - x[0]\ndy = y[1] - y[0]"
      ]
    },
    {
      "cell_type": "markdown",
      "metadata": {},
      "source": [
        "## Integrate\nIntegrate grid of particles and return final positions.\n\n"
      ]
    },
    {
      "cell_type": "code",
      "execution_count": null,
      "metadata": {
        "collapsed": false
      },
      "outputs": [],
      "source": [
        "flowmap = flowmap_grid_2D(funcptr, t0, T, x, y, params)"
      ]
    },
    {
      "cell_type": "markdown",
      "metadata": {},
      "source": [
        "## FTLE\nCompute FTLE field from final particle positions.\n\n"
      ]
    },
    {
      "cell_type": "code",
      "execution_count": null,
      "metadata": {
        "collapsed": false
      },
      "outputs": [],
      "source": [
        "ftle = ftle_grid_2D(flowmap, T, dx, dy)"
      ]
    },
    {
      "cell_type": "markdown",
      "metadata": {},
      "source": [
        "## Plot\nPlot the results.\n\n"
      ]
    },
    {
      "cell_type": "code",
      "execution_count": null,
      "metadata": {
        "collapsed": false
      },
      "outputs": [],
      "source": [
        "fig, ax = plt.subplots(dpi=200)\nax.contourf(x, y, ftle.T, levels=80)\nax.set_aspect(\"equal\")\nplt.show()"
      ]
    }
  ],
  "metadata": {
    "kernelspec": {
      "display_name": "Python 3",
      "language": "python",
      "name": "python3"
    },
    "language_info": {
      "codemirror_mode": {
        "name": "ipython",
        "version": 3
      },
      "file_extension": ".py",
      "mimetype": "text/x-python",
      "name": "python",
      "nbconvert_exporter": "python",
      "pygments_lexer": "ipython3",
      "version": "3.11.9"
    }
  },
  "nbformat": 4,
  "nbformat_minor": 0
}