{
  "cells": [
    {
      "cell_type": "markdown",
      "metadata": {},
      "source": [
        "\n# Quasi-geostrophic FTLE\n\nCompute the FTLE field for the QGE.\n"
      ]
    },
    {
      "cell_type": "code",
      "execution_count": null,
      "metadata": {
        "collapsed": false
      },
      "outputs": [],
      "source": [
        "# Author: ajarvis\n# Data: We thank Changhong Mou and Traian Iliescu for providing us with this dataset\n#       and allowing it to be used here.\n\nimport numpy as np\nfrom math import copysign\nimport matplotlib.pyplot as plt\nfrom numbacs.flows import get_interp_arrays_2D, get_flow_2D\nfrom numbacs.integration import flowmap_grid_2D\nfrom numbacs.diagnostics import ftle_grid_2D"
      ]
    },
    {
      "cell_type": "markdown",
      "metadata": {},
      "source": [
        "## Get flow data\nLoad velocity data, set up domain, set the integration span and direction, create\ninterpolant of velocity data and retrieve necessary arrays.\n\n"
      ]
    },
    {
      "cell_type": "code",
      "execution_count": null,
      "metadata": {
        "collapsed": false
      },
      "outputs": [],
      "source": [
        "# load in qge velocity data\nu = np.load(\"../data/qge/qge_u.npy\")\nv = np.load(\"../data/qge/qge_v.npy\")\n\n# set up domain\nnt, nx, ny = u.shape\nx = np.linspace(0, 1, nx)\ny = np.linspace(0, 2, ny)\nt = np.linspace(0, 1, nt)\ndx = x[1] - x[0]\ndy = y[1] - y[0]\n\n# set integration span and integration direction\nt0 = 0.0\nT = 0.1\nparams = np.array([copysign(1, T)])  # important this is an array of type float\n\n# get interpolant arrays of velocity field\ngrid_vel, C_eval_u, C_eval_v = get_interp_arrays_2D(t, x, y, u, v)\n\n# get flow to be integrated\nfuncptr = get_flow_2D(grid_vel, C_eval_u, C_eval_v, extrap_mode=\"linear\")"
      ]
    },
    {
      "cell_type": "markdown",
      "metadata": {},
      "source": [
        "## Integrate\nIntegrate grid of particles and return final positions.\n\n"
      ]
    },
    {
      "cell_type": "code",
      "execution_count": null,
      "metadata": {
        "collapsed": false
      },
      "outputs": [],
      "source": [
        "flowmap = flowmap_grid_2D(funcptr, t0, T, x, y, params)"
      ]
    },
    {
      "cell_type": "markdown",
      "metadata": {},
      "source": [
        "## FTLE\nCompute FTLE field from final particle positions.\n\n"
      ]
    },
    {
      "cell_type": "code",
      "execution_count": null,
      "metadata": {
        "collapsed": false
      },
      "outputs": [],
      "source": [
        "ftle = ftle_grid_2D(flowmap, T, dx, dy)"
      ]
    },
    {
      "cell_type": "markdown",
      "metadata": {},
      "source": [
        "## Plot\nPlot the results.\n\n"
      ]
    },
    {
      "cell_type": "code",
      "execution_count": null,
      "metadata": {
        "collapsed": false
      },
      "outputs": [],
      "source": [
        "fig, ax = plt.subplots(dpi=200)\nax.contourf(x, y, ftle.T, levels=100)\nax.set_aspect(\"equal\")\nplt.show()"
      ]
    }
  ],
  "metadata": {
    "kernelspec": {
      "display_name": "Python 3",
      "language": "python",
      "name": "python3"
    },
    "language_info": {
      "codemirror_mode": {
        "name": "ipython",
        "version": 3
      },
      "file_extension": ".py",
      "mimetype": "text/x-python",
      "name": "python",
      "nbconvert_exporter": "python",
      "pygments_lexer": "ipython3",
      "version": "3.11.9"
    }
  },
  "nbformat": 4,
  "nbformat_minor": 0
}