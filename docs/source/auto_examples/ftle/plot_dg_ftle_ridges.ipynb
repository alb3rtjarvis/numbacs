{
  "cells": [
    {
      "cell_type": "markdown",
      "metadata": {},
      "source": [
        "\n# Double gyre FTLE ridges\n\nCompute the FTLE field and ridges for the double gyre.\n"
      ]
    },
    {
      "cell_type": "code",
      "execution_count": null,
      "metadata": {
        "collapsed": false
      },
      "outputs": [],
      "source": [
        "# Author: ajarvis\n\nimport numpy as np\nfrom math import copysign\nimport matplotlib.pyplot as plt\nfrom numbacs.flows import get_predefined_flow\nfrom numbacs.integration import flowmap_grid_2D\nfrom numbacs.diagnostics import ftle_from_eig, C_eig_2D\nfrom numbacs.extraction import ftle_ordered_ridges"
      ]
    },
    {
      "cell_type": "markdown",
      "metadata": {},
      "source": [
        "## Get flow\nSet the integration span and direction, retrieve the flow, and set up domain.\n\n"
      ]
    },
    {
      "cell_type": "code",
      "execution_count": null,
      "metadata": {
        "collapsed": false
      },
      "outputs": [],
      "source": [
        "# set initial time, integration time, and integration direction\nt0 = 0.\nT = -10.\nint_direction = copysign(1,T)\n\n# retrieve function pointer, parameters, and domain for double gyre flow.\nfuncptr, params, domain = get_predefined_flow('double_gyre', int_direction = int_direction)\n\n# set up domain\nnx,ny = 401,201\nx = np.linspace(domain[0][0],domain[0][1],nx)\ny = np.linspace(domain[1][0],domain[1][1],ny)\ndx = x[1]-x[0]\ndy = y[1]-y[0]"
      ]
    },
    {
      "cell_type": "markdown",
      "metadata": {},
      "source": [
        "## Integrate\nIntegrate grid of particles and return final positions.\n\n"
      ]
    },
    {
      "cell_type": "code",
      "execution_count": null,
      "metadata": {
        "collapsed": false
      },
      "outputs": [],
      "source": [
        "flowmap = flowmap_grid_2D(funcptr, t0, T, x, y, params)"
      ]
    },
    {
      "cell_type": "markdown",
      "metadata": {},
      "source": [
        "## CG eigenvalues, eigenvectors, and FTLE\nCompute eigenvalues/vectors of CG tensor from final particle positions and compute FTLE.\n\n"
      ]
    },
    {
      "cell_type": "code",
      "execution_count": null,
      "metadata": {
        "collapsed": false
      },
      "outputs": [],
      "source": [
        "# compute eigenvalues/vectors of Cauchy Green tensor\neigvals,eigvecs = C_eig_2D(flowmap,dx,dy)\neigval_max = eigvals[:,:,1]\neigvec_max = eigvecs[:,:,:,1]\n\n# compute FTLE from max eigenvalue\nftle = ftle_from_eig(eigval_max,T)"
      ]
    },
    {
      "cell_type": "markdown",
      "metadata": {},
      "source": [
        "## Ridge extraction\nCompute ordered FTLE ridges.\n\n"
      ]
    },
    {
      "cell_type": "code",
      "execution_count": null,
      "metadata": {
        "collapsed": false
      },
      "outputs": [],
      "source": [
        "# set parameters for ridge function\npercentile = 0\nsdd_thresh = 10.\n\n# identify ridge points, link points in each ridge in an ordered manner,\n# connect close enough ridges\ndist_tol = 5e-2\nridge_curves = ftle_ordered_ridges(ftle,eigvec_max,x,y,dist_tol,\n                                   percentile=percentile,sdd_thresh=sdd_thresh)"
      ]
    },
    {
      "cell_type": "markdown",
      "metadata": {},
      "source": [
        "## Plot\nPlot the results.\n\n"
      ]
    },
    {
      "cell_type": "code",
      "execution_count": null,
      "metadata": {
        "collapsed": false
      },
      "outputs": [],
      "source": [
        "fig,ax = plt.subplots(dpi=200)\nax.contourf(x,y,ftle.T,levels=80)\nfor rc in ridge_curves:\n    ax.plot(rc[:,0],rc[:,1],lw=1.5)\nax.set_aspect('equal')\nplt.show()"
      ]
    }
  ],
  "metadata": {
    "kernelspec": {
      "display_name": "Python 3",
      "language": "python",
      "name": "python3"
    },
    "language_info": {
      "codemirror_mode": {
        "name": "ipython",
        "version": 3
      },
      "file_extension": ".py",
      "mimetype": "text/x-python",
      "name": "python",
      "nbconvert_exporter": "python",
      "pygments_lexer": "ipython3",
      "version": "3.11.9"
    }
  },
  "nbformat": 4,
  "nbformat_minor": 0
}
