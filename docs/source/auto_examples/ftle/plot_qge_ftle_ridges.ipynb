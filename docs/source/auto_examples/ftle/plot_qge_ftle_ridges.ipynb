{
  "cells": [
    {
      "cell_type": "markdown",
      "metadata": {},
      "source": [
        "\n# Quasi-geostrophic FTLE ridges\n\nCompute the FTLE field and ridges for the QGE.\n"
      ]
    },
    {
      "cell_type": "code",
      "execution_count": null,
      "metadata": {
        "collapsed": false
      },
      "outputs": [],
      "source": [
        "# Author: ajarvis\n# Data: We thank Changhong Mou and Traian Iliescu for providing us with this dataset\n#       and allowing it to be used here.\n\nimport numpy as np\nfrom math import copysign\nimport matplotlib.pyplot as plt\nfrom numbacs.flows import get_interp_arrays_2D, get_flow_2D\nfrom numbacs.integration import flowmap_grid_2D\nfrom numbacs.diagnostics import ftle_from_eig, C_eig_2D\nfrom numbacs.extraction import ftle_ordered_ridges\nfrom scipy.ndimage import gaussian_filter"
      ]
    },
    {
      "cell_type": "markdown",
      "metadata": {},
      "source": [
        "## Get flow data\nLoad velocity data, set up domain, set the integration span and direction, create\ninterpolant of velocity data and retrieve necessary arrays.\n\n"
      ]
    },
    {
      "cell_type": "code",
      "execution_count": null,
      "metadata": {
        "collapsed": false
      },
      "outputs": [],
      "source": [
        "# load in qge velocity data\nu = np.load('../data/qge/qge_u.npy')\nv = np.load('../data/qge/qge_v.npy')\n\n# set up domain\nnt,nx,ny = u.shape\nx = np.linspace(0,1,nx)\ny = np.linspace(0,2,ny)\nt = np.linspace(0,1,nt)\ndx = x[1]-x[0]\ndy = y[1]-y[0]\n\n# set integration span and integration direction\nt0 = 0.0\nT = 0.1\nparams = np.array([copysign(1,T)])  # important this is an array of type float\n\n# get interpolant arrays of velocity field\ngrid_vel, C_eval_u, C_eval_v = get_interp_arrays_2D(t, x, y, u, v)\n\n# get flow to be integrated\nfuncptr = get_flow_2D(grid_vel, C_eval_u, C_eval_v, extrap_mode='linear')"
      ]
    },
    {
      "cell_type": "markdown",
      "metadata": {},
      "source": [
        "## Integrate\nIntegrate grid of particles  and return final positions.\n\n"
      ]
    },
    {
      "cell_type": "code",
      "execution_count": null,
      "metadata": {
        "collapsed": false
      },
      "outputs": [],
      "source": [
        "flowmap = flowmap_grid_2D(funcptr, t0, T, x, y, params)"
      ]
    },
    {
      "cell_type": "markdown",
      "metadata": {},
      "source": [
        "## CG eigenvalues, eigenvectors, and FTLE\nCompute eigenvalues/vectors of CG tensor from final particle positions and compute FTLE.\n\n"
      ]
    },
    {
      "cell_type": "code",
      "execution_count": null,
      "metadata": {
        "collapsed": false
      },
      "outputs": [],
      "source": [
        "# compute eigenvalues/vectors of Cauchy Green tensor\neigvals,eigvecs = C_eig_2D(flowmap, dx, dy)\neigval_max = eigvals[:,:,1]\neigvec_max = eigvecs[:,:,:,1]\n\n# compute FTLE from max eigenvalue\nftle = ftle_from_eig(eigval_max, T)\n\n# smooth ftle field, usually a good idea for numerical velocity field\nsigma = 1.2\nftle_c = gaussian_filter(ftle,sigma,mode='nearest')"
      ]
    },
    {
      "cell_type": "markdown",
      "metadata": {},
      "source": [
        "## Ridge extraction\nCompute ordered FTLE ridges.\n\n"
      ]
    },
    {
      "cell_type": "code",
      "execution_count": null,
      "metadata": {
        "collapsed": false
      },
      "outputs": [],
      "source": [
        "# set parameters for ridge function\n# function is fast after first call so experiment with these parameters\npercentile = 50\nsdd_thresh = 5e3\n\n# identify ridge points, link points in each ridge in an ordered manner,\n# connect close enough ridges\ndist_tol = 5e-2\nridge_curves = ftle_ordered_ridges(ftle_c,eigvec_max,x,y,dist_tol,\n                                   percentile=percentile,sdd_thresh=sdd_thresh,\n                                   min_ridge_pts=25)"
      ]
    },
    {
      "cell_type": "markdown",
      "metadata": {},
      "source": [
        "## Plot\nPlot the results.\n\n"
      ]
    },
    {
      "cell_type": "code",
      "execution_count": null,
      "metadata": {
        "collapsed": false
      },
      "outputs": [],
      "source": [
        "fig,ax = plt.subplots(dpi=200)\nax.contourf(x,y,ftle_c.T,levels=80)\nfor rc in ridge_curves:\n    ax.plot(rc[:,0],rc[:,1],'r',lw=1.0)\nax.set_aspect('equal')\nplt.show()"
      ]
    }
  ],
  "metadata": {
    "kernelspec": {
      "display_name": "Python 3",
      "language": "python",
      "name": "python3"
    },
    "language_info": {
      "codemirror_mode": {
        "name": "ipython",
        "version": 3
      },
      "file_extension": ".py",
      "mimetype": "text/x-python",
      "name": "python",
      "nbconvert_exporter": "python",
      "pygments_lexer": "ipython3",
      "version": "3.11.9"
    }
  },
  "nbformat": 4,
  "nbformat_minor": 0
}
