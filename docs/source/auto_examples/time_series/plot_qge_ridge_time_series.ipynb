{
  "cells": [
    {
      "cell_type": "markdown",
      "metadata": {},
      "source": [
        "\n# Quasi-geostrophic FTLE ridges time series\n\nCompute a time series of FTLE fields and ridges for the QGE.\n"
      ]
    },
    {
      "cell_type": "code",
      "execution_count": null,
      "metadata": {
        "collapsed": false
      },
      "outputs": [],
      "source": [
        "# Author: ajarvis\n# Data: We thank Changhong Mou and Traian Iliescu for providing us with this dataset\n#       and allowing it to be used here.\n# Hardware: Intel(R) Core(TM) i7-3770K CPU @ 3.50GHz, Cores = 4, Threads = 8\n\nimport numpy as np\nfrom math import copysign\nimport matplotlib.pyplot as plt\nfrom numbacs.flows import get_interp_arrays_2D, get_flow_2D\nfrom numbacs.integration import flowmap_grid_2D\nfrom numbacs.diagnostics import ftle_from_eig, C_eig_2D\nfrom numbacs.extraction import ftle_ordered_ridges\nfrom scipy.ndimage import gaussian_filter\nimport time"
      ]
    },
    {
      "cell_type": "markdown",
      "metadata": {},
      "source": [
        "## Get flow data\nLoad velocity data, set up domain, set the integration span and direction, create\ninterpolant of velocity data and retrieve necessary arrays.\n\n"
      ]
    },
    {
      "cell_type": "code",
      "execution_count": null,
      "metadata": {
        "collapsed": false
      },
      "outputs": [],
      "source": [
        "# load in qge velocity data\nu = np.load(\"../data/qge/qge_u.npy\")\nv = np.load(\"../data/qge/qge_v.npy\")\n\n# set up domain\nnt, nx, ny = u.shape\nx = np.linspace(0, 1, nx)\ny = np.linspace(0, 2, ny)\nt = np.linspace(0, 1, nt)\ndx = x[1] - x[0]\ndy = y[1] - y[0]\n\n# set integration span and integration direction\nt0span = np.linspace(0, 0.2, 21)\nT = 0.1\nparams = np.array([copysign(1, T)])  # important this is an array of type float\n\n# get interpolant arrays of velocity field\ngrid_vel, C_eval_u, C_eval_v = get_interp_arrays_2D(t, x, y, u, v)\n\n# get flow to be integrated\nfuncptr = get_flow_2D(grid_vel, C_eval_u, C_eval_v, extrap_mode=\"linear\")"
      ]
    },
    {
      "cell_type": "markdown",
      "metadata": {},
      "source": [
        "## Warm-up\nMake first call to njit functions to show warm-up time.\n\n"
      ]
    },
    {
      "cell_type": "code",
      "execution_count": null,
      "metadata": {
        "collapsed": false
      },
      "outputs": [],
      "source": [
        "# initiate arrays and counter for total time of each function\nn = len(t0span)\nftle = np.zeros((n, nx, ny), np.float64)\nridges = []\nfmtt = 0\nctt = 0\nrtt = 0\n\n# integrate grid of particles from t0span[0] to t0span[0] + T\nwu_fm = time.perf_counter()\nflowmap = flowmap_grid_2D(funcptr, t0span[0], T, x, y, params)\nwu_fm = time.perf_counter() - wu_fm\nfmtt += wu_fm\n\n# compute eigenvalues/vectors of Cauchy Green tensor\nwu_c = time.perf_counter()\neigvals, eigvecs = C_eig_2D(flowmap, dx, dy)\nwu_c = time.perf_counter() - wu_c\nctt += wu_c\n\neigval_max = eigvals[:, :, 1]\neigvec_max = eigvecs[:, :, :, 1]\n\n# compute FTLE from max eigenvalue\nftle_k = ftle_from_eig(eigval_max, T)\nftle[0, :, :] = ftle_k\n\n# smooth ftle field, usually a good idea for numerical velocity field\nsigma = 1.2\nftle_c = gaussian_filter(ftle_k, sigma, mode=\"nearest\")\n\n# set parameters for ridge function\npercentile = 50\nsdd_thresh = 5e3\n\n# identify ridge points, link points in each ridge in an ordered manner,\n# connect close enough ridges\ndist_tol = 5e-2\nwu_r = time.perf_counter()\nridge_curves = ftle_ordered_ridges(\n    ftle_c,\n    eigvec_max,\n    x,\n    y,\n    dist_tol,\n    percentile=percentile,\n    sdd_thresh=sdd_thresh,\n    min_ridge_pts=25,\n)\nwu_r = time.perf_counter() - wu_r\nrtt += wu_r\nridges.append(ridge_curves)\n\nprint(f\"Flowmap with warm-up took {wu_fm:.5f} seconds\")\nprint(f\"Cauchy green eigenvalues/vectors with warm-up took {wu_c:.5f} seconds\")\nprint(f\"FTLE ridges with warm-up took {wu_r:.5f} seconds\")"
      ]
    },
    {
      "cell_type": "markdown",
      "metadata": {},
      "source": [
        "## Ridge time series\nCompute time series of FTLE and FTLE ridges, record times.\n\n"
      ]
    },
    {
      "cell_type": "code",
      "execution_count": null,
      "metadata": {
        "collapsed": false
      },
      "outputs": [],
      "source": [
        "ft0 = time.perf_counter()\nfor k in range(1, n):\n    # integrate grid of particles from t0span[k] to t0span[k] + T\n    fks = time.perf_counter()\n    flowmap = flowmap_grid_2D(funcptr, t0span[k], T, x, y, params)\n    fkf = time.perf_counter()\n    fmtt += fkf - fks\n\n    # compute eigenvalues/vectors of Cauchy Green tensor\n    cks = time.perf_counter()\n    eigvals, eigvecs = C_eig_2D(flowmap, dx, dy)\n    ckf = time.perf_counter()\n    ctt += ckf - cks\n\n    eigval_max = eigvals[:, :, 1]\n    eigvec_max = eigvecs[:, :, :, 1]\n\n    # compute FTLE from max eigenvalue\n    ftle_k = ftle_from_eig(eigval_max, T)\n    ftle[k, :, :] = ftle_k\n\n    # smooth ftle field, usually a good idea for numerical velocity field\n    ftle_c = gaussian_filter(ftle_k, sigma, mode=\"nearest\")\n\n    # identify ridge points, link points in each ridge in an ordered manner,\n    # connect close enough ridges\n    rks = time.perf_counter()\n    ridge_curves = ftle_ordered_ridges(\n        ftle_c,\n        eigvec_max,\n        x,\n        y,\n        dist_tol,\n        percentile=percentile,\n        sdd_thresh=sdd_thresh,\n        min_ridge_pts=25,\n    )\n    rkf = time.perf_counter()\n    rtt += rkf - rks\n    ridges.append(ridge_curves)\nftf = time.perf_counter()\nftt = ftf - ft0"
      ]
    },
    {
      "cell_type": "code",
      "execution_count": null,
      "metadata": {
        "collapsed": false
      },
      "outputs": [],
      "source": [
        "print(\n    \"Full run for FTLE ridges (with warmup)\"\n    + f\" took {fmtt + ctt + rtt:.5f} seconds for {n} iterates\"\n)\nprint(\n    \"Average time for flowmap, CG, and ridges\"\n    + f\" (with warmup) was {(fmtt + ctt + rtt) / n:.5f} seconds\"\n)\nprint(\n    \"Average time for flowmap, CG, and ridges\"\n    + f\" (without warmup) was {(fmtt + ctt + rtt - wu_fm - wu_c - wu_r) / (n - 1):.5f} seconds\"\n)\nprint(f\"First call to flowmap_grid_2D -- {wu_fm:.5f} seconds (warmup)\")\nprint(\"Mean time for flowmap_grid_2D -- \" + f\"{(fmtt - wu_fm) / (n - 1):.5f} seconds (w/o warmup)\")\nprint(f\"First call to C_eig_2D -- {wu_c:.5f} seconds (warmup)\")\nprint(\"Mean time for C_eig_2D -- \" + f\"{(ctt - wu_c) / (n - 1):.5f} seconds (w/o warmup)\")\nprint(f\"First call to ftle_ordered_ridges -- {wu_r:.5f} seconds (warmup)\")\nprint(\n    \"Mean time for ftle_ordered_ridges -- \" + f\"{(rtt - wu_r) / (n - 1):.5f} seconds (w/o warmup)\"\n)"
      ]
    },
    {
      "cell_type": "markdown",
      "metadata": {},
      "source": [
        "## Plot\nPlot the results.\n\n"
      ]
    },
    {
      "cell_type": "code",
      "execution_count": null,
      "metadata": {
        "collapsed": false
      },
      "outputs": [],
      "source": [
        "fig, ax = plt.subplots(dpi=200)\nax.contourf(x, y, ftle_c.T, levels=80)\nfor rc in ridge_curves:\n    ax.plot(rc[:, 0], rc[:, 1], \"r\", lw=1.0)\nax.set_aspect(\"equal\")"
      ]
    }
  ],
  "metadata": {
    "kernelspec": {
      "display_name": "Python 3",
      "language": "python",
      "name": "python3"
    },
    "language_info": {
      "codemirror_mode": {
        "name": "ipython",
        "version": 3
      },
      "file_extension": ".py",
      "mimetype": "text/x-python",
      "name": "python",
      "nbconvert_exporter": "python",
      "pygments_lexer": "ipython3",
      "version": "3.11.9"
    }
  },
  "nbformat": 4,
  "nbformat_minor": 0
}