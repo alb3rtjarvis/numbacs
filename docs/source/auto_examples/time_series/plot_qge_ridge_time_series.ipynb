{
 "cells": [
  {
   "cell_type": "markdown",
   "metadata": {},
   "source": [
    "\n# Quasi-geostrophic FTLE ridges time series\n\nCompute a time series of FTLE fields and ridges for the QGE.\n"
   ]
  },
  {
   "cell_type": "code",
   "execution_count": null,
   "metadata": {
    "collapsed": false
   },
   "outputs": [],
   "source": [
    "# Author: ajarvis\n",
    "# Data: We thank Changhong Mou and Traian Iliescu for providing us with this dataset\n",
    "#       and allowing it to be used here.\n",
    "# Hardware: Intel(R) Core(TM) i7-3770K CPU @ 3.50GHz, Cores = 4, Threads = 8\n",
    "\n",
    "import numpy as np\n",
    "from math import copysign\n",
    "import matplotlib.pyplot as plt\n",
    "from numbacs.flows import get_interp_arrays_2D, get_flow_2D\n",
    "from numbacs.integration import flowmap_grid_2D\n",
    "from numbacs.diagnostics import ftle_from_eig, C_eig_2D\n",
    "from numbacs.extraction import ftle_ordered_ridges\n",
    "from scipy.ndimage import gaussian_filter\n",
    "import time"
   ]
  },
  {
   "cell_type": "markdown",
   "metadata": {},
   "source": [
    "## Get flow data\nLoad velocity data, set up domain, set the integration span and direction, create\ninterpolant of velocity data and retrieve necessary arrays.\n\n"
   ]
  },
  {
   "cell_type": "code",
   "execution_count": null,
   "metadata": {
    "collapsed": false
   },
   "outputs": [],
   "source": [
    "# load in qge velocity data\n",
    "u = np.load('../data/qge/qge_u.npy')\n",
    "v = np.load('../data/qge/qge_v.npy')\n",
    "\n",
    "# set up domain\n",
    "nt,nx,ny = u.shape\n",
    "x = np.linspace(0,1,nx)\n",
    "y = np.linspace(0,2,ny)\n",
    "t = np.linspace(0,1,nt)\n",
    "dx = x[1]-x[0]\n",
    "dy = y[1]-y[0]\n",
    "\n",
    "# set integration span and integration direction\n",
    "t0span = np.linspace(0,0.2,21)\n",
    "T = 0.1\n",
    "params = np.array([copysign(1,T)])  # important this is an array of type float\n",
    "\n",
    "# get interpolant arrays of velocity field\n",
    "grid_vel, C_eval_u, C_eval_v = get_interp_arrays_2D(t, x, y, u, v)\n",
    "\n",
    "# get flow to be integrated\n",
    "funcptr = get_flow_2D(grid_vel, C_eval_u, C_eval_v, extrap_mode='linear')"
   ]
  },
  {
   "cell_type": "markdown",
   "metadata": {},
   "source": [
    "## Warm-up\nMake first call to njit functions to show warm-up time.\n\n"
   ]
  },
  {
   "cell_type": "code",
   "execution_count": null,
   "metadata": {
    "collapsed": false
   },
   "outputs": [],
   "source": [
    "# initiate arrays and counter for total time of each function\n",
    "n = len(t0span)\n",
    "ftle = np.zeros((n,nx,ny),np.float64)\n",
    "ridges = []\n",
    "fmtt = 0\n",
    "ctt = 0\n",
    "rtt = 0\n",
    "\n",
    "# integrate grid of particles from t0span[0] to t0span[0] + T\n",
    "wu_fm = time.perf_counter()\n",
    "flowmap = flowmap_grid_2D(funcptr, t0span[0], T, x, y, params)\n",
    "wu_fm = time.perf_counter() - wu_fm\n",
    "fmtt += wu_fm\n",
    "\n",
    "# compute eigenvalues/vectors of Cauchy Green tensor\n",
    "wu_c = time.perf_counter()\n",
    "eigvals,eigvecs = C_eig_2D(flowmap, dx, dy)\n",
    "wu_c = time.perf_counter() - wu_c\n",
    "ctt += wu_c\n",
    "\n",
    "eigval_max = eigvals[:,:,1]\n",
    "eigvec_max = eigvecs[:,:,:,1]\n",
    "\n",
    "# compute FTLE from max eigenvalue\n",
    "ftle_k = ftle_from_eig(eigval_max, T)\n",
    "ftle[0,:,:] = ftle_k\n",
    "\n",
    "# smooth ftle field, usually a good idea for numerical velocity field\n",
    "sigma = 1.2\n",
    "ftle_c = gaussian_filter(ftle_k,sigma,mode='nearest')\n",
    "\n",
    "# set parameters for ridge function\n",
    "percentile = 50\n",
    "sdd_thresh = 5e3\n",
    "\n",
    "# identify ridge points, link points in each ridge in an ordered manner,\n",
    "# connect close enough ridges\n",
    "dist_tol = 5e-2\n",
    "wu_r = time.perf_counter()\n",
    "ridge_curves = ftle_ordered_ridges(ftle_c,eigvec_max,x,y,dist_tol,\n",
    "                                   percentile=percentile,sdd_thresh=sdd_thresh,\n",
    "                                   min_ridge_pts=25)\n",
    "wu_r = time.perf_counter() - wu_r\n",
    "rtt += wu_r\n",
    "ridges.append(ridge_curves)\n",
    "\n",
    "print(\"Flowmap with warm-up took {:.5f} seconds\".format(wu_fm))\n",
    "print(\"Cauchy green eigenvalues/vectors with warm-up took {:.5f} seconds\".format(wu_c))\n",
    "print(\"FTLE ridges with warm-up took {:.5f} seconds\".format(wu_r))"
   ]
  },
  {
   "cell_type": "markdown",
   "metadata": {},
   "source": [
    "## Ridge time series\nCompute time series of FTLE and FTLE ridges, record times.\n\n"
   ]
  },
  {
   "cell_type": "code",
   "execution_count": null,
   "metadata": {
    "collapsed": false
   },
   "outputs": [],
   "source": [
    "ft0 = time.perf_counter()\n",
    "for k in range(1,n):\n",
    "    # integrate grid of particles from t0span[k] to t0span[k] + T\n",
    "    fks = time.perf_counter()\n",
    "    flowmap = flowmap_grid_2D(funcptr, t0span[k], T, x, y, params)\n",
    "    fkf = time.perf_counter()\n",
    "    fmtt += fkf - fks\n",
    "\n",
    "    # compute eigenvalues/vectors of Cauchy Green tensor\n",
    "    cks = time.perf_counter()\n",
    "    eigvals,eigvecs = C_eig_2D(flowmap, dx, dy)\n",
    "    ckf = time.perf_counter()\n",
    "    ctt += ckf - cks\n",
    "\n",
    "    eigval_max = eigvals[:,:,1]\n",
    "    eigvec_max = eigvecs[:,:,:,1]\n",
    "\n",
    "    # compute FTLE from max eigenvalue\n",
    "    ftle_k = ftle_from_eig(eigval_max, T)\n",
    "    ftle[k,:,:] = ftle_k\n",
    "\n",
    "    # smooth ftle field, usually a good idea for numerical velocity field\n",
    "    ftle_c = gaussian_filter(ftle_k,sigma,mode='nearest')\n",
    "\n",
    "    # identify ridge points, link points in each ridge in an ordered manner,\n",
    "    # connect close enough ridges\n",
    "    rks = time.perf_counter()\n",
    "    ridge_curves = ftle_ordered_ridges(ftle_c,eigvec_max,x,y,dist_tol,\n",
    "                                       percentile=percentile,sdd_thresh=sdd_thresh,\n",
    "                                       min_ridge_pts=25)\n",
    "    rkf = time.perf_counter()\n",
    "    rtt += rkf - rks\n",
    "    ridges.append(ridge_curves)\n",
    "ftf = time.perf_counter()\n",
    "ftt = ftf - ft0"
   ]
  },
  {
   "cell_type": "code",
   "execution_count": null,
   "metadata": {
    "collapsed": false
   },
   "outputs": [],
   "source": [
    "print(\"Full run for FTLE ridges (with warmup)\"\n",
    "      + \" took {:.5f} seconds for {} iterates\".format(fmtt+ctt+rtt,n))\n",
    "print(\"Average time for flowmap, CG, and ridges\"\n",
    "      + \" (with warmup) was {:.5f} seconds\".format((fmtt+ctt+rtt)/n))\n",
    "print(\"Average time for flowmap, CG, and ridges\"\n",
    "      + \" (without warmup) was {:.5f} seconds\".format((fmtt+ctt+rtt-wu_fm-wu_c-wu_r)/(n-1)))\n",
    "print(\"First call to flowmap_grid_2D -- {:.5f} seconds (warmup)\".format(wu_fm))\n",
    "print(\"Mean time for flowmap_grid_2D -- \"\n",
    "      + \"{:.5f} seconds (w/o warmup)\".format((fmtt-wu_fm)/(n-1)))\n",
    "print(\"First call to C_eig_2D -- {:.5f} seconds (warmup)\".format(wu_c))\n",
    "print(\"Mean time for C_eig_2D -- \"\n",
    "      + \"{:.5f} seconds (w/o warmup)\".format((ctt-wu_c)/(n-1)))\n",
    "print(\"First call to ftle_ordered_ridges -- {:.5f} seconds (warmup)\".format(wu_r))\n",
    "print(\"Mean time for ftle_ordered_ridges -- \"\n",
    "      + \"{:.5f} seconds (w/o warmup)\".format((rtt-wu_r)/(n-1)))"
   ]
  },
  {
   "cell_type": "markdown",
   "metadata": {},
   "source": [
    "## Plot\nPlot the results.\n\n"
   ]
  },
  {
   "cell_type": "code",
   "execution_count": null,
   "metadata": {
    "collapsed": false
   },
   "outputs": [],
   "source": [
    "fig,ax = plt.subplots(dpi=200)\n",
    "ax.contourf(x,y,ftle_c.T,levels=80)\n",
    "for rc in ridge_curves:\n",
    "    ax.plot(rc[:,0],rc[:,1],'r',lw=1.0)\n",
    "ax.set_aspect('equal')"
   ]
  }
 ],
 "metadata": {
  "kernelspec": {
   "display_name": "Python 3",
   "language": "python",
   "name": "python3"
  },
  "language_info": {
   "codemirror_mode": {
    "name": "ipython",
    "version": 3
   },
   "file_extension": ".py",
   "mimetype": "text/x-python",
   "name": "python",
   "nbconvert_exporter": "python",
   "pygments_lexer": "ipython3",
   "version": "3.11.9"
  }
 },
 "nbformat": 4,
 "nbformat_minor": 0
}