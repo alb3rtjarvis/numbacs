{
  "cells": [
    {
      "cell_type": "markdown",
      "metadata": {},
      "source": [
        "\n# Quasi-geostrophic time series\n\nCompare run times for different flowmap methods for the QGE.\n"
      ]
    },
    {
      "cell_type": "code",
      "execution_count": null,
      "metadata": {
        "collapsed": false
      },
      "outputs": [],
      "source": [
        "# Author: ajarvis\n# Data: We thank Changhong Mou and Traian Iliescu for providing us with this dataset\n#       and allowing it to be used here.\n# Hardware: Intel(R) Core(TM) i7-3770K CPU @ 3.50GHz, Cores = 4, Threads = 8\n\nimport numpy as np\nfrom interpolation.splines import UCGrid\nfrom numbacs.integration import (\n    flowmap_grid_2D,\n    flowmap_composition_initial,\n    flowmap_composition_step,\n)\nfrom numbacs.flows import get_interp_arrays_2D, get_flow_2D\nfrom numbacs.diagnostics import ftle_grid_2D\nimport matplotlib.pyplot as plt\nimport time\nfrom math import copysign\nimport numba\nfrom numba import njit, prange"
      ]
    },
    {
      "cell_type": "markdown",
      "metadata": {},
      "source": [
        "## Get flow data\nLoad velocity data, set up domain, set the integration span and direction, create\ninterpolant of velocity data and retrieve necessary arrays.\n\n"
      ]
    },
    {
      "cell_type": "code",
      "execution_count": null,
      "metadata": {
        "collapsed": false
      },
      "outputs": [],
      "source": [
        "# load in qge velocity data\nu = np.load(\"../data/qge/qge_u.npy\")\nv = np.load(\"../data/qge/qge_v.npy\")\n\n# set up domain\nnt, nx, ny = u.shape\nx = np.linspace(0, 1, nx)\ny = np.linspace(0, 2, ny)\nt = np.linspace(0, 1, nt)\ndx = x[1] - x[0]\ndy = y[1] - y[0]\n\n# set integration span and integration direction\nt0 = 0.0\nT = 0.1\nparams = np.array([copysign(1, T)])  # important this is an array of type float\n\n# get interpolant arrays of velocity field\ngrid_vel, C_eval_u, C_eval_v = get_interp_arrays_2D(t, x, y, u, v)\n\n# get flow to be integrated\nfuncptr = get_flow_2D(grid_vel, C_eval_u, C_eval_v, extrap_mode=\"linear\")"
      ]
    },
    {
      "cell_type": "markdown",
      "metadata": {},
      "source": [
        "## Warm-up\nRun flowmap_grid_2D and ftle_grid_2D so warm-up time is not included in comparison.\n\n"
      ]
    },
    {
      "cell_type": "code",
      "execution_count": null,
      "metadata": {
        "collapsed": false
      },
      "outputs": [],
      "source": [
        "wfm = time.perf_counter()\nflowmap_wu = flowmap_grid_2D(funcptr, t0, T, x, y, params)\nwu_fm = time.perf_counter() - wfm\nprint(f\"Flowmap with warm-up took {wu_fm:.5f} seconds\")\n\nwf = time.perf_counter()\nftle_wu = ftle_grid_2D(flowmap_wu, T, dx, dy)\nwu_f = time.perf_counter() - wf\nprint(f\"FTLE with warm-up took {wu_f:.5f} seconds\")"
      ]
    },
    {
      "cell_type": "markdown",
      "metadata": {},
      "source": [
        "## Set flowmap composition parameters\n\n"
      ]
    },
    {
      "cell_type": "code",
      "execution_count": null,
      "metadata": {
        "collapsed": false
      },
      "outputs": [],
      "source": [
        "h = 0.005\ngrid = UCGrid((x[0], x[-1], nx), (y[0], y[-1], ny))\nn = 50\ntspan = np.arange(t0, t0 + n * h, h)"
      ]
    },
    {
      "cell_type": "markdown",
      "metadata": {},
      "source": [
        "## Flowmap composition\nPerform flowmap composition over tspan and compute time series of FTLE.\n\n"
      ]
    },
    {
      "cell_type": "code",
      "execution_count": null,
      "metadata": {
        "collapsed": false
      },
      "outputs": [],
      "source": [
        "ftlec = np.zeros((n, nx, ny), np.float64)\nctt = 0\nc0s = time.perf_counter()\nflowmap0, flowmaps, nT = flowmap_composition_initial(funcptr, t0, T, h, x, y, grid, params)\nc0f = time.perf_counter()\nc0 = c0f - c0s\nctt += c0\n\nftt = 0\nf0s = time.perf_counter()\nftlec[0, :, :] = ftle_grid_2D(flowmap0, T, dx, dy)\nf0f = time.perf_counter()\nf0 = f0s - f0f\nftt += f0\nfor k in range(1, n):\n    t0 = tspan[k] + T - h\n    cks = time.perf_counter()\n    flowmap_k, flowmaps = flowmap_composition_step(flowmaps, funcptr, t0, h, nT, x, y, grid, params)\n    ckf = time.perf_counter()\n    ctt += ckf - cks\n\n    fks = time.perf_counter()\n    ftlec[k, :, :] = ftle_grid_2D(flowmap_k, T, dx, dy)\n    fkf = time.perf_counter()\n    ftt += fkf - fks\n\nprint(f\"Flowmap and FTLE computation (composed flowmap) took {ctt + ftt:.5f} seconds\")\nprint(f\"Average time for flowmap and FTLE was {(ctt + ftt) / n:.5f} seconds\")\nprint(f\"Average time for flowmap was {ctt / n:.5f} seconds\")\nprint(f\"Average time for FTLE was {ftt / n:.5f} seconds\")\nprint(f\"\\nInitial flowmap integration and composition took {c0:.5f} seconds\")\nprint(f\"Average time for flowmap composition was {(ctt - c0) / (n - 1):.5f} seconds\")\n\ncfmtt = ctt + ftt\ncfmat = ((ctt - c0) + (ftt - f0)) / (n - 1)"
      ]
    },
    {
      "cell_type": "markdown",
      "metadata": {},
      "source": [
        "## Standard flowmap\nCompute flowmap over tspan using a simple loop and the flowmap_grid_2D function,\ncompute time series of FTLE. In this case, parallelization is performed over the\nspatial domain within the functions flowmap_grid_2D and ftle_grid_2D.\n\n"
      ]
    },
    {
      "cell_type": "code",
      "execution_count": null,
      "metadata": {
        "collapsed": false
      },
      "outputs": [],
      "source": [
        "# set counter for total time and preallocate ftle\ntt = 0\nftle = np.zeros((n, nx, ny), np.float64)\nftt = 0\n# loop over initial times, compute flowmap and ftle\nfor k in range(n):\n    t0 = tspan[k]\n    ks = time.perf_counter()\n    flowmap = flowmap_grid_2D(funcptr, t0, T, x, y, params)\n    kf = time.perf_counter()\n    kt = kf - ks\n    tt += kt\n\n    fks = time.perf_counter()\n    ftle[k, :, :] = ftle_grid_2D(flowmap, T, dx, dy)\n    fkf = time.perf_counter()\n    ftt += fkf - fks\n\nprint(f\"Flowmap and FTLE computation (parallel in space) took  {tt + ftt:.5f}\")\nprint(f\"Average time for flowmap and FTLE was {(tt + ftt) / n:.5f} seconds\")\nprint(f\"Average time for flowmap was {tt / n:.5f} seconds\")\nprint(f\"Average time for FTLE was {ftt / n:.5f} seconds\")\n\nfmtt = tt + ftt\nfmat = (tt + ftt) / n"
      ]
    },
    {
      "cell_type": "markdown",
      "metadata": {},
      "source": [
        "## Parallelization over time\nAlternatively, parallelization can be performed over time by creating a simple\nfunction as shown below. This provides a moderate speed up (depending on the hardware\nbeing used and the length of tspan). Functions like this can be created for any\ndiagnostic or extraction method.\n\n"
      ]
    },
    {
      "cell_type": "code",
      "execution_count": null,
      "metadata": {
        "collapsed": false
      },
      "outputs": [],
      "source": [
        "# function which moves the parallel load to the time domain\n# instead of spatial domain\n@njit(parallel=True)\ndef ftle_tspan(funcptr, tspan, T, x, y, params):\n    \"\"\"\n    Function to compute time series of ftle fields in parallel.\n\n    Parameters\n    ----------\n    funcptr : int\n        pointer to C callback.\n    tspan : np.ndarray, shape = (nt,)\n        array containing times at which to compute ftle.\n    T : float\n        integration time.\n    x : np.ndarray, shape = (nx,)\n        array containing x-values.\n    y : np.ndarray, shape = (ny,)\n        array containing y-values.\n    params : np.ndarray, shape = (nprms,)\n        array of parameters to be passed to the ode function defined by funcptr.\n\n    Returns\n    -------\n    ftle : np.ndarray, shape = (nt,nx,ny)\n        array containing ftle fields for each t0 in tspan.\n\n    \"\"\"\n    nx = len(x)\n    ny = len(y)\n    dx = x[1] - x[0]\n    dy = y[1] - y[0]\n    nt = len(tspan)\n    ftle = np.zeros((nt, nx, ny), numba.float64)\n    for k in prange(nt):\n        t0 = tspan[k]\n        flowmap = flowmap_grid_2D(funcptr, t0, T, x, y, params)\n        ftle[k, :, :] = ftle_grid_2D(flowmap, T, dx, dy)\n\n    return ftle\n\n\npt0 = time.perf_counter()\nftlep = ftle_tspan(funcptr, tspan, T, x, y, params)\nptt = time.perf_counter() - pt0\nprint(f\"Flowmap and FTLE computation (parallel in time) took {ptt:.5f} seconds\")\nprint(f\"Average time for flowmap and FTLE was {ptt / n:.5f} seconds\")\n\npfmtt = ptt\npfmat = ptt / n"
      ]
    },
    {
      "cell_type": "markdown",
      "metadata": {},
      "source": [
        "## Compare timings\nCompare timings and quantify speedup\n\n"
      ]
    },
    {
      "cell_type": "code",
      "execution_count": null,
      "metadata": {
        "collapsed": false
      },
      "outputs": [],
      "source": [
        "d1 = 5\nd2 = 2\ndata = [\n    [round(fmtt, d1), round(fmtt / fmtt, d2), round(fmat / fmat, d2)],\n    [round(pfmtt, d1), round(fmtt / pfmtt, d2), round(fmat / pfmat, d2)],\n    [round(cfmtt, d1), round(fmtt / cfmtt, d2), round(fmat / cfmat, d2)],\n]\n\ntimes = [f\"total time (n={n})\", \"x speedup\", \"x speedup (per step)\"]\nmethods = [\"standard\", \"parallel time\", \"composition\"]\n\nformat_row = \"{:>25}\" * (len(data[0]) + 1)\n\nprint(format_row.format(\"\", *times))\n\nfor name, vals in zip(methods, data):\n    print(format_row.format(name, *vals))"
      ]
    },
    {
      "cell_type": "markdown",
      "metadata": {},
      "source": [
        "## Plot FTLE from different flowmap methods\nPlot FTLE from standard flowmap method and composition flowmap method.\nThey are qualitatively indistinguishable.\n\n"
      ]
    },
    {
      "cell_type": "code",
      "execution_count": null,
      "metadata": {
        "collapsed": false
      },
      "outputs": [],
      "source": [
        "i = 5\nfig, axs = plt.subplots(nrows=1, ncols=2, sharey=True, dpi=200)\naxs[0].contourf(x, y, ftle[i, :, :].T)\naxs[1].contourf(x, y, ftlec[i, :, :].T)\naxs[0].set_aspect(\"equal\")\naxs[1].set_aspect(\"equal\")"
      ]
    },
    {
      "cell_type": "markdown",
      "metadata": {},
      "source": [
        "## Error plots\nCompute and plot error between FTLE from standard flowmap method\nand flowmap composition. Standard flowmap FTLE is assumed to be\ntrue value.\n\n"
      ]
    },
    {
      "cell_type": "code",
      "execution_count": null,
      "metadata": {
        "collapsed": false
      },
      "outputs": [],
      "source": [
        "# mean absolute error\ndef MAE(true, est):\n    \"\"\"\n    Compute mean absolute error.\n\n    Parameters\n    ----------\n    true : np.ndarray\n        true value.\n    est : np.ndarray\n        estimated value.\n\n    Returns\n    -------\n    float\n        mean absolute error.\n\n    \"\"\"\n    n = true.size\n    return np.sum(np.abs(true - est)) / n\n\n\n# symmetric mean absolute percentage error\ndef sMAPE(true, est):\n    \"\"\"\n    Compute symmetric mean absolute percentage error. In this form,\n    true and est are assumed to be strictly positive.\n\n    Parameters\n    ----------\n    true : np.ndarray\n        true value.\n    est : np.ndarray\n        estimated value.\n\n    Returns\n    -------\n    float\n        symmetric mean absolute percentage error.\n\n    \"\"\"\n    n = true.size\n    return np.sum(np.divide(abs(true - est), true + est)) * (200 / n)\n\n\nmae = np.zeros(n, np.float64)\nsmape = np.zeros(n, np.float64)\nfor k in range(n):\n    f = ftle[k, :, :]\n    zmask = f > 0\n    f = f[zmask]\n    fc = ftlec[k, :, :]\n    fc = fc[zmask]\n    mae[k] = MAE(f, fc)\n    smape[k] = sMAPE(f, fc)\n\nfig, ax1 = plt.subplots(figsize=(8, 6))\n\ncolor = \"tab:red\"\nax1.set_xlabel(\"iterate\")\nax1.set_ylabel(\"MAE\", color=color)\nax1.plot(mae, color=color)\nax1.tick_params(axis=\"y\", labelcolor=color)\n\nax2 = ax1.twinx()\n\ncolor = \"tab:blue\"\nax2.set_ylabel(\"sMAPE (%)\", color=color)\nax2.plot(smape, \"--\", color=color)\nax2.tick_params(axis=\"y\", labelcolor=color)"
      ]
    }
  ],
  "metadata": {
    "kernelspec": {
      "display_name": "Python 3",
      "language": "python",
      "name": "python3"
    },
    "language_info": {
      "codemirror_mode": {
        "name": "ipython",
        "version": 3
      },
      "file_extension": ".py",
      "mimetype": "text/x-python",
      "name": "python",
      "nbconvert_exporter": "python",
      "pygments_lexer": "ipython3",
      "version": "3.11.9"
    }
  },
  "nbformat": 4,
  "nbformat_minor": 0
}