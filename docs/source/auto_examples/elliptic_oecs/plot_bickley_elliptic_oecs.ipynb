{
  "cells": [
    {
      "cell_type": "markdown",
      "metadata": {},
      "source": [
        "\n# Bickley jet Elliptic OECS\n\nCompute the IVD-based elliptic OECS for the Bickley jet.\n"
      ]
    },
    {
      "cell_type": "code",
      "execution_count": null,
      "metadata": {
        "collapsed": false
      },
      "outputs": [],
      "source": [
        "# Author: ajarvis\n\nimport numpy as np\nfrom math import pi\nimport matplotlib.pyplot as plt\nfrom numbacs.flows import get_predefined_callable\nfrom numbacs.diagnostics import ivd_grid_2D\nfrom numbacs.extraction import rotcohvrt\nfrom numbacs.utils import curl_func_tspan"
      ]
    },
    {
      "cell_type": "markdown",
      "metadata": {},
      "source": [
        "## Get flow callable\nGet callable for velocity field, set up domain, and initial time\n\n"
      ]
    },
    {
      "cell_type": "code",
      "execution_count": null,
      "metadata": {
        "collapsed": false
      },
      "outputs": [],
      "source": [
        "# retrieve callable to compute vorticity\nvel_spline = get_predefined_callable(\"bickley_jet\", return_domain=False)\n\n# set up larger domain to capture all elliptic lcs\ndomain = ((-2.0, 6.371 * pi + 2.0), (-3.0, 3.0))\ndx = 0.05\ndy = 0.05\nx = np.arange(domain[0][0], domain[0][1] + dx, dx)\ny = np.arange(domain[1][0], domain[1][1] + dy, dy)\nnx = len(x)\nny = len(y)\n\n# set initial time\nt0 = 0.0\nt = np.array([t0])"
      ]
    },
    {
      "cell_type": "markdown",
      "metadata": {},
      "source": [
        "## Vorticity\nCompute vorticity on the grid at t0.\n\n"
      ]
    },
    {
      "cell_type": "code",
      "execution_count": null,
      "metadata": {
        "collapsed": false
      },
      "outputs": [],
      "source": [
        "# compute vorticity and spatial mean of vorticity\nvort = curl_func_tspan(vel_spline, t, x, y).squeeze()\nvort_avg = np.mean(vort)"
      ]
    },
    {
      "cell_type": "markdown",
      "metadata": {},
      "source": [
        "## IVD\nCompute IVD from vorticity.\n\n"
      ]
    },
    {
      "cell_type": "code",
      "execution_count": null,
      "metadata": {
        "collapsed": false
      },
      "outputs": [],
      "source": [
        "# compute lavd\nivd = ivd_grid_2D(vort, vort_avg)"
      ]
    },
    {
      "cell_type": "markdown",
      "metadata": {},
      "source": [
        "## IVD-based elliptic OECS\nCompute elliptic OECS from IVD.\n\n"
      ]
    },
    {
      "cell_type": "code",
      "execution_count": null,
      "metadata": {
        "collapsed": false
      },
      "outputs": [],
      "source": [
        "# set parameters and compute lavd-based elliptic oecs\nr = 2.5\nconvexity_deficiency = 5e-6\nmin_len = 1.0\nelcs = rotcohvrt(ivd, x, y, r, convexity_deficiency=convexity_deficiency, min_len=min_len)"
      ]
    },
    {
      "cell_type": "markdown",
      "metadata": {},
      "source": [
        "## Plot\nPlot the elliptic OECS over the IVD field.\n\n"
      ]
    },
    {
      "cell_type": "code",
      "execution_count": null,
      "metadata": {
        "collapsed": false
      },
      "outputs": [],
      "source": [
        "# sphinx_gallery_thumbnail_number = 1\nfig, ax = plt.subplots(dpi=200)\nax.contourf(x, y, ivd.T, levels=80)\nax.set_aspect(\"equal\")\nfor rcv, c in elcs:\n    ax.plot(rcv[:, 0], rcv[:, 1], lw=1.5)\n    ax.scatter(c[0], c[1], 1.5)\nplt.show()"
      ]
    }
  ],
  "metadata": {
    "kernelspec": {
      "display_name": "Python 3",
      "language": "python",
      "name": "python3"
    },
    "language_info": {
      "codemirror_mode": {
        "name": "ipython",
        "version": 3
      },
      "file_extension": ".py",
      "mimetype": "text/x-python",
      "name": "python",
      "nbconvert_exporter": "python",
      "pygments_lexer": "ipython3",
      "version": "3.11.9"
    }
  },
  "nbformat": 4,
  "nbformat_minor": 0
}