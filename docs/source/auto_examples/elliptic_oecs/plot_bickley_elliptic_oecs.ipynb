{
 "cells": [
  {
   "cell_type": "markdown",
   "metadata": {},
   "source": [
    "\n# Bickley jet Elliptic OECS\n\nCompute the IVD-based elliptic OECS for the Bickley jet.\n"
   ]
  },
  {
   "cell_type": "code",
   "execution_count": null,
   "metadata": {
    "collapsed": false
   },
   "outputs": [],
   "source": [
    "# Author: ajarvis\n",
    "\n",
    "import numpy as np\n",
    "from math import pi\n",
    "import matplotlib.pyplot as plt\n",
    "from numbacs.flows import get_predefined_callable\n",
    "from numbacs.diagnostics import ivd_grid_2D\n",
    "from numbacs.extraction import rotcohvrt\n",
    "from numbacs.utils import curl_func_tspan"
   ]
  },
  {
   "cell_type": "markdown",
   "metadata": {},
   "source": [
    "## Get flow callable\nGet callable for velocity field, set up domain, and initial time\n\n"
   ]
  },
  {
   "cell_type": "code",
   "execution_count": null,
   "metadata": {
    "collapsed": false
   },
   "outputs": [],
   "source": [
    "# retrieve callable to compute vorticity\n",
    "vel_spline = get_predefined_callable('bickley_jet',return_domain=False)\n",
    "\n",
    "# set up larger domain to capture all elliptic lcs\n",
    "domain = ((-2.0,6.371*pi + 2.0),(-3.0,3.0))\n",
    "dx = 0.05\n",
    "dy = 0.05\n",
    "x = np.arange(domain[0][0],domain[0][1]+dx,dx)\n",
    "y = np.arange(domain[1][0],domain[1][1]+dy,dy)\n",
    "nx = len(x)\n",
    "ny = len(y)\n",
    "\n",
    "# set initial time\n",
    "t0 = 0.\n",
    "t = np.array([t0])"
   ]
  },
  {
   "cell_type": "markdown",
   "metadata": {},
   "source": [
    "## Vorticity\nCompute vorticity on the grid at t0.\n\n"
   ]
  },
  {
   "cell_type": "code",
   "execution_count": null,
   "metadata": {
    "collapsed": false
   },
   "outputs": [],
   "source": [
    "# compute vorticity and spatial mean of vorticity\n",
    "vort = curl_func_tspan(vel_spline,t,x,y).squeeze()\n",
    "vort_avg = np.mean(vort)"
   ]
  },
  {
   "cell_type": "markdown",
   "metadata": {},
   "source": [
    "## IVD\nCompute IVD from vorticity.\n\n"
   ]
  },
  {
   "cell_type": "code",
   "execution_count": null,
   "metadata": {
    "collapsed": false
   },
   "outputs": [],
   "source": [
    "# compute lavd\n",
    "ivd = ivd_grid_2D(vort,vort_avg)"
   ]
  },
  {
   "cell_type": "markdown",
   "metadata": {},
   "source": [
    "## IVD-based elliptic OECS\nCompute elliptic OECS from IVD.\n\n"
   ]
  },
  {
   "cell_type": "code",
   "execution_count": null,
   "metadata": {
    "collapsed": false
   },
   "outputs": [],
   "source": [
    "# set parameters and compute lavd-based elliptic oecs\n",
    "r = 2.5\n",
    "convexity_deficiency = 5e-6\n",
    "min_len = 1.0\n",
    "elcs = rotcohvrt(ivd,x,y,r,convexity_deficiency=convexity_deficiency,min_len=min_len)"
   ]
  },
  {
   "cell_type": "markdown",
   "metadata": {},
   "source": [
    "## Plot\nPlot the elliptic OECS over the IVD field.\n\n"
   ]
  },
  {
   "cell_type": "code",
   "execution_count": null,
   "metadata": {
    "collapsed": false
   },
   "outputs": [],
   "source": [
    "# sphinx_gallery_thumbnail_number = 1\n",
    "fig,ax = plt.subplots(dpi=200)\n",
    "ax.contourf(x,y,ivd.T,levels=80)\n",
    "ax.set_aspect('equal')\n",
    "for rcv,c in elcs:\n",
    "    ax.plot(rcv[:,0],rcv[:,1],lw=1.5)\n",
    "    ax.scatter(c[0],c[1],1.5)\n",
    "plt.show()"
   ]
  }
 ],
 "metadata": {
  "kernelspec": {
   "display_name": "Python 3",
   "language": "python",
   "name": "python3"
  },
  "language_info": {
   "codemirror_mode": {
    "name": "ipython",
    "version": 3
   },
   "file_extension": ".py",
   "mimetype": "text/x-python",
   "name": "python",
   "nbconvert_exporter": "python",
   "pygments_lexer": "ipython3",
   "version": "3.11.9"
  }
 },
 "nbformat": 4,
 "nbformat_minor": 0
}
