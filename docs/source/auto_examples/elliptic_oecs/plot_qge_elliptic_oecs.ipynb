{
 "cells": [
  {
   "cell_type": "markdown",
   "metadata": {},
   "source": [
    "\n# Quasi-geostrophic Elliptic OECS\n\nCompute the IVD-based elliptic OECS for the QGE.\n"
   ]
  },
  {
   "cell_type": "code",
   "execution_count": null,
   "metadata": {
    "collapsed": false
   },
   "outputs": [],
   "source": [
    "# Author: ajarvis\n",
    "# Data: We thank Changhong Mou and Traian Iliescu for providing us with this dataset\n",
    "#       and allowing it to be used here.\n",
    "\n",
    "import numpy as np\n",
    "import matplotlib.pyplot as plt\n",
    "from numbacs.diagnostics import ivd_grid_2D\n",
    "from numbacs.extraction import rotcohvrt\n",
    "from numbacs.utils import curl_vel"
   ]
  },
  {
   "cell_type": "markdown",
   "metadata": {},
   "source": [
    "## Get flow data\nLoad velocity data, set up domain, and set initial time\n\n"
   ]
  },
  {
   "cell_type": "code",
   "execution_count": null,
   "metadata": {
    "collapsed": false
   },
   "outputs": [],
   "source": [
    "# load in qge velocity data\n",
    "u = np.load('../data/qge/qge_u.npy')\n",
    "v = np.load('../data/qge/qge_v.npy')\n",
    "\n",
    "# set up domain\n",
    "nt,nx,ny = u.shape\n",
    "x = np.linspace(0,1,nx)\n",
    "y = np.linspace(0,2,ny)\n",
    "t = np.linspace(0,1,nt)\n",
    "dx = x[1]-x[0]\n",
    "dy = y[1]-y[0]\n",
    "\n",
    "# set initial time\n",
    "t0 = 0.5\n",
    "k0 = np.argwhere(t==t0)[0][0]"
   ]
  },
  {
   "cell_type": "markdown",
   "metadata": {},
   "source": [
    "## Vorticity\nCopmute vorticity on the grid and over the times for which the flowmap was returned.\n\n"
   ]
  },
  {
   "cell_type": "code",
   "execution_count": null,
   "metadata": {
    "collapsed": false
   },
   "outputs": [],
   "source": [
    "# compute vorticity and create interpolant for it\n",
    "vort = curl_vel(u[k0,:,:],v[k0,:,:],dx,dy)\n",
    "vort_avg = np.mean(vort)"
   ]
  },
  {
   "cell_type": "markdown",
   "metadata": {},
   "source": [
    "## IVD\nCompute IVD from vorticity.\n\n"
   ]
  },
  {
   "cell_type": "code",
   "execution_count": null,
   "metadata": {
    "collapsed": false
   },
   "outputs": [],
   "source": [
    "# compute lavd\n",
    "ivd = ivd_grid_2D(vort,vort_avg)"
   ]
  },
  {
   "cell_type": "markdown",
   "metadata": {},
   "source": [
    "## IVD-based elliptic OECS\nCompute elliptic OECS from IVD.\n\n"
   ]
  },
  {
   "cell_type": "code",
   "execution_count": null,
   "metadata": {
    "collapsed": false
   },
   "outputs": [],
   "source": [
    "# set parameters and compute lavd-based elliptic oecs\n",
    "r = 0.2\n",
    "convexity_deficiency = 1e-3\n",
    "min_len = 0.25\n",
    "elcs = rotcohvrt(ivd,x,y,r,convexity_deficiency=convexity_deficiency,min_len=min_len)"
   ]
  },
  {
   "cell_type": "markdown",
   "metadata": {},
   "source": [
    "## Plot\nPlot the elliptic OECS over the IVD field.\n\n"
   ]
  },
  {
   "cell_type": "code",
   "execution_count": null,
   "metadata": {
    "collapsed": false
   },
   "outputs": [],
   "source": [
    "# sphinx_gallery_thumbnail_number = 1\n",
    "fig,ax = plt.subplots(dpi=200)\n",
    "ax.contourf(x,y,ivd.T,levels=80)\n",
    "ax.set_aspect('equal')\n",
    "for rcv,c in elcs:\n",
    "    ax.plot(rcv[:,0],rcv[:,1],lw=1.5)\n",
    "    ax.scatter(c[0],c[1],1.5)\n",
    "plt.show()"
   ]
  }
 ],
 "metadata": {
  "kernelspec": {
   "display_name": "Python 3",
   "language": "python",
   "name": "python3"
  },
  "language_info": {
   "codemirror_mode": {
    "name": "ipython",
    "version": 3
   },
   "file_extension": ".py",
   "mimetype": "text/x-python",
   "name": "python",
   "nbconvert_exporter": "python",
   "pygments_lexer": "ipython3",
   "version": "3.11.9"
  }
 },
 "nbformat": 4,
 "nbformat_minor": 0
}
