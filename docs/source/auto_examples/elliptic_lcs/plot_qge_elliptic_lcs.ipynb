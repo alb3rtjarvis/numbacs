{
 "cells": [
  {
   "cell_type": "markdown",
   "metadata": {},
   "source": [
    "\n# Quasi-geostrophic Elliptic LCS\n\nCompute the LAVD-based elliptic lcs for the QGE.\n"
   ]
  },
  {
   "cell_type": "code",
   "execution_count": null,
   "metadata": {
    "collapsed": false
   },
   "outputs": [],
   "source": [
    "# Author: ajarvis\n",
    "# Data: We thank Changhong Mou and Traian Iliescu for providing us with this dataset\n",
    "#       and allowing it to be used here.\n",
    "\n",
    "import numpy as np\n",
    "from math import copysign\n",
    "import matplotlib.pyplot as plt\n",
    "from matplotlib.animation import FuncAnimation\n",
    "from numbacs.flows import (get_interp_arrays_2D, get_flow_2D, get_callable_2D,\n",
    "                           get_interp_arrays_scalar, get_callable_scalar)\n",
    "from numbacs.integration import flowmap_n_grid_2D, flowmap_n\n",
    "from numbacs.diagnostics import lavd_grid_2D\n",
    "from numbacs.extraction import rotcohvrt\n",
    "from numbacs.utils import curl_func_tspan, gen_filled_circ, interp_curve, pts_in_poly_mask"
   ]
  },
  {
   "cell_type": "markdown",
   "metadata": {},
   "source": [
    "## Get flow data\nLoad velocity data, set up domain, set the integration span and direction, create\ninterpolant of velocity data and retrieve necessary arrays.\n\n"
   ]
  },
  {
   "cell_type": "code",
   "execution_count": null,
   "metadata": {
    "collapsed": false
   },
   "outputs": [],
   "source": [
    "# load in qge velocity data\n",
    "u = np.load('../data/qge/qge_u.npy')\n",
    "v = np.load('../data/qge/qge_v.npy')\n",
    "\n",
    "# set up domain\n",
    "nt,nx,ny = u.shape\n",
    "x = np.linspace(0,1,nx)\n",
    "y = np.linspace(0,2,ny)\n",
    "t = np.linspace(0,1,nt)\n",
    "dx = x[1]-x[0]\n",
    "dy = y[1]-y[0]\n",
    "\n",
    "# set integration span and integration direction\n",
    "t0 = 0.5\n",
    "T = 0.3\n",
    "params = np.array([copysign(1,T)])  # important this is an array of type float\n",
    "n = 601\n",
    "\n",
    "# get interpolant arrays of velocity field\n",
    "grid_vel, C_eval_u, C_eval_v = get_interp_arrays_2D(t, x, y, u, v)\n",
    "\n",
    "# get flow to be integrated\n",
    "funcptr = get_flow_2D(grid_vel, C_eval_u, C_eval_v, extrap_mode='linear')\n",
    "\n",
    "# get callable for flow\n",
    "vel_spline = get_callable_2D(grid_vel, C_eval_u, C_eval_v, extrap_mode='linear')"
   ]
  },
  {
   "cell_type": "markdown",
   "metadata": {},
   "source": [
    "## Integrate\nIntegrate grid of particles and return positions at n times between [t0,t0+T] (inclusive).\n\n"
   ]
  },
  {
   "cell_type": "code",
   "execution_count": null,
   "metadata": {
    "collapsed": false
   },
   "outputs": [],
   "source": [
    "flowmap, tspan = flowmap_n_grid_2D(funcptr,t0,T,x,y,params,n=n)"
   ]
  },
  {
   "cell_type": "markdown",
   "metadata": {},
   "source": [
    "## Vorticity\nCopmute vorticity on the grid and over the times for which the flowmap was returned.\n\n"
   ]
  },
  {
   "cell_type": "code",
   "execution_count": null,
   "metadata": {
    "collapsed": false
   },
   "outputs": [],
   "source": [
    "# compute vorticity and create interpolant for it\n",
    "vort = curl_func_tspan(vel_spline,tspan,x,y,h=1e-3)\n",
    "grid_domain, C_vort = get_interp_arrays_scalar(tspan, x, y, vort)\n",
    "vort_spline = get_callable_scalar(grid_domain, C_vort)"
   ]
  },
  {
   "cell_type": "markdown",
   "metadata": {},
   "source": [
    "## LAVD\nCompute LAVD from vorticity and particle positions.\n\n"
   ]
  },
  {
   "cell_type": "code",
   "execution_count": null,
   "metadata": {
    "collapsed": false
   },
   "outputs": [],
   "source": [
    "# need to pass raveled arrays into lavd_grid_2D\n",
    "X,Y = np.meshgrid(x,y,indexing='ij')\n",
    "xrav = X.ravel()\n",
    "yrav = Y.ravel()\n",
    "\n",
    "# compute lavd\n",
    "lavd = lavd_grid_2D(flowmap, tspan, T, vort_spline, xrav, yrav)"
   ]
  },
  {
   "cell_type": "markdown",
   "metadata": {},
   "source": [
    "## LAVD-based elliptic LCS\nCompute elliptic LCS from LAVD.\n\n"
   ]
  },
  {
   "cell_type": "code",
   "execution_count": null,
   "metadata": {
    "collapsed": false
   },
   "outputs": [],
   "source": [
    "# set parameters and compute lavd-based elliptic lcs\n",
    "r = 0.2\n",
    "convexity_deficiency = 1e-3\n",
    "min_len = 0.1\n",
    "elcs = rotcohvrt(lavd,x,y,r,convexity_deficiency=convexity_deficiency,min_len=min_len)"
   ]
  },
  {
   "cell_type": "markdown",
   "metadata": {},
   "source": [
    "## Plot\nPlot the elliptic LCS over the LAVD field.\n\n"
   ]
  },
  {
   "cell_type": "code",
   "execution_count": null,
   "metadata": {
    "collapsed": false
   },
   "outputs": [],
   "source": [
    "# sphinx_gallery_thumbnail_number = 1\n",
    "fig,ax = plt.subplots(dpi=200)\n",
    "ax.contourf(x,y,lavd.T,levels=80)\n",
    "ax.set_aspect('equal')\n",
    "for rcv,c in elcs:\n",
    "    ax.plot(rcv[:,0],rcv[:,1],lw=1.5)\n",
    "    ax.scatter(c[0],c[1],1.5)\n",
    "plt.show()"
   ]
  },
  {
   "cell_type": "markdown",
   "metadata": {},
   "source": [
    "## Advect elliptic LCS\nAdvect an elliptic LCS and nearby filled circle of points to demonstrate\ncoherence.\n\n"
   ]
  },
  {
   "cell_type": "code",
   "execution_count": null,
   "metadata": {
    "collapsed": false
   },
   "outputs": [],
   "source": [
    "# pick an elliptic lcs and create more refined curve by interpolating\n",
    "c0 = elcs[0][1]\n",
    "rcv0 = elcs[0][0]\n",
    "rcvi = interp_curve(rcv0,2500,per=1)\n",
    "\n",
    "# create a filled circle which has a center a distance delta away from\n",
    "# vortex center\n",
    "delta = 1e-2\n",
    "circ_delta = gen_filled_circ(0.1,10000,c=c0+delta,xlims=(0,1),ylims=(0,2))\n",
    "\n",
    "# advect both the elliptic lcs and the nearby filled circle\n",
    "frames = 301\n",
    "adv_rcv, teval = flowmap_n(funcptr,t0,T,rcvi,params,n=frames)\n",
    "adv_circ, _ = flowmap_n(funcptr,t0,T,circ_delta,params,n=frames)"
   ]
  },
  {
   "cell_type": "markdown",
   "metadata": {},
   "source": [
    "## Animate\nCreate animation of advected elliptic LCS and nearby filled circle.\n\n"
   ]
  },
  {
   "cell_type": "code",
   "execution_count": null,
   "metadata": {
    "collapsed": false
   },
   "outputs": [],
   "source": [
    "# find which points from the filled circle are inside elliptic lcs\n",
    "# for plotting purposes\n",
    "mask = pts_in_poly_mask(rcv0,circ_delta)\n",
    "\n",
    "# create plot\n",
    "fig,ax = plt.subplots(dpi = 100)\n",
    "scatter0 = ax.scatter(adv_rcv[:,0,0],adv_rcv[:,0,1],1)\n",
    "scatter_in = ax.scatter(adv_circ[mask,0,0],adv_circ[mask,0,1],0.5,'purple',zorder=0)\n",
    "scatter_out = ax.scatter(adv_circ[~mask,0,0],adv_circ[~mask,0,1],0.5,'orange',zorder=0)\n",
    "ax.set_xlim([x[0],x[-1]])\n",
    "ax.set_ylim([y[0],1.25])    # only focus on part of domain where particles go\n",
    "ax.set_aspect('equal')\n",
    "ax.set_title(\"t = {:.2f}\".format(round(teval[0],2)))\n",
    "\n",
    "# function for animation\n",
    "def update(frame):\n",
    "    # for each frame, update the data stored on each artist\n",
    "    x0 = adv_rcv[:,frame,0]\n",
    "    y0 = adv_rcv[:,frame,1]\n",
    "    x_in = adv_circ[mask,frame,0]\n",
    "    y_in = adv_circ[mask,frame,1]\n",
    "    x_out = adv_circ[~mask,frame,0]\n",
    "    y_out = adv_circ[~mask,frame,1]\n",
    "    data0 = np.column_stack((x0,y0))\n",
    "    data_in = np.column_stack((x_in,y_in))\n",
    "    data_out = np.column_stack((x_out,y_out))\n",
    "\n",
    "    # update each scatter plot\n",
    "    scatter0.set_offsets(data0)\n",
    "    scatter_in.set_offsets(data_in)\n",
    "    scatter_out.set_offsets(data_out)\n",
    "\n",
    "    # update title\n",
    "    ax.set_title(\"t = {:.2f}\".format(round(teval[frame],2)))\n",
    "\n",
    "    return (scatter0, scatter_in, scatter_out)\n",
    "\n",
    "# create animation\n",
    "ani = FuncAnimation(fig=fig, func=update, frames=frames, interval=30)\n",
    "plt.show()"
   ]
  }
 ],
 "metadata": {
  "kernelspec": {
   "display_name": "Python 3",
   "language": "python",
   "name": "python3"
  },
  "language_info": {
   "codemirror_mode": {
    "name": "ipython",
    "version": 3
   },
   "file_extension": ".py",
   "mimetype": "text/x-python",
   "name": "python",
   "nbconvert_exporter": "python",
   "pygments_lexer": "ipython3",
   "version": "3.11.9"
  }
 },
 "nbformat": 4,
 "nbformat_minor": 0
}
