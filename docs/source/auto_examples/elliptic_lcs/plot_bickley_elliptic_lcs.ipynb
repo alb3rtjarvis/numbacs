{
 "cells": [
  {
   "cell_type": "markdown",
   "metadata": {},
   "source": [
    "\n# Bickley jet Elliptic LCS\n\nCompute the LAVD-based elliptic lcs for the bickley jet.\n"
   ]
  },
  {
   "cell_type": "code",
   "execution_count": null,
   "metadata": {
    "collapsed": false
   },
   "outputs": [],
   "source": [
    "# Author: ajarvis\n",
    "\n",
    "import numpy as np\n",
    "from math import copysign, pi\n",
    "import matplotlib.pyplot as plt\n",
    "from matplotlib.animation import FuncAnimation\n",
    "from numbacs.flows import (get_predefined_flow, get_predefined_callable,\n",
    "                           get_interp_arrays_scalar, get_callable_scalar)\n",
    "from numbacs.integration import flowmap_n_grid_2D, flowmap_n\n",
    "from numbacs.diagnostics import lavd_grid_2D\n",
    "from numbacs.extraction import rotcohvrt\n",
    "from numbacs.utils import curl_func_tspan, gen_filled_circ, interp_curve, pts_in_poly_mask"
   ]
  },
  {
   "cell_type": "markdown",
   "metadata": {},
   "source": [
    "## Get flow\nSet the integration span and direction, retrieve the flow, jit-callable for velocity\nfield, and set up domain.\n\n"
   ]
  },
  {
   "cell_type": "code",
   "execution_count": null,
   "metadata": {
    "collapsed": false
   },
   "outputs": [],
   "source": [
    "# set initial time, integration time, integration direction,\n",
    "# and integration span (units of days)\n",
    "t0 = 0.\n",
    "T = 40.\n",
    "int_direction = copysign(1,T)\n",
    "n = 801\n",
    "\n",
    "# retrieve function pointer and parameters for bickley jet flow.\n",
    "funcptr, params = get_predefined_flow('bickley_jet',\n",
    "                                      int_direction = int_direction,\n",
    "                                      return_domain = False)\n",
    "\n",
    "# retrieve callable to compute vorticity\n",
    "vel_spline = get_predefined_callable('bickley_jet',return_domain=False)\n",
    "\n",
    "# set up larger domain to capture all elliptic lcs\n",
    "domain = ((-2.0,6.371*pi + 2.0),(-3.0,3.0))\n",
    "dx = 0.05\n",
    "dy = 0.05\n",
    "x = np.arange(domain[0][0],domain[0][1]+dx,dx)\n",
    "y = np.arange(domain[1][0],domain[1][1]+dy,dy)\n",
    "nx = len(x)\n",
    "ny = len(y)"
   ]
  },
  {
   "cell_type": "markdown",
   "metadata": {},
   "source": [
    "## Integrate\nIntegrate grid of particles and return positions at n times between [t0,t0+T] (inclusive).\n\n"
   ]
  },
  {
   "cell_type": "code",
   "execution_count": null,
   "metadata": {
    "collapsed": false
   },
   "outputs": [],
   "source": [
    "flowmap, tspan = flowmap_n_grid_2D(funcptr,t0,T,x,y,params,n=n)"
   ]
  },
  {
   "cell_type": "markdown",
   "metadata": {},
   "source": [
    "## Vorticity\nCopmute vorticity on the grid and over the times for which the flowmap was returned.\n\n"
   ]
  },
  {
   "cell_type": "code",
   "execution_count": null,
   "metadata": {
    "collapsed": false
   },
   "outputs": [],
   "source": [
    "# compute vorticity and create interpolant for it\n",
    "vort = curl_func_tspan(vel_spline,tspan,x,y,h=1e-3)\n",
    "grid_domain, C_vort = get_interp_arrays_scalar(tspan, x, y, vort)\n",
    "vort_spline = get_callable_scalar(grid_domain, C_vort)"
   ]
  },
  {
   "cell_type": "markdown",
   "metadata": {},
   "source": [
    "## LAVD\nCompute LAVD from vorticity and particle positions.\n\n"
   ]
  },
  {
   "cell_type": "code",
   "execution_count": null,
   "metadata": {
    "collapsed": false
   },
   "outputs": [],
   "source": [
    "# need to pass raveled arrays into lavd_grid_2D\n",
    "X,Y = np.meshgrid(x,y,indexing='ij')\n",
    "xrav = X.ravel()\n",
    "yrav = Y.ravel()\n",
    "\n",
    "# since bickley jet is periodic in x-direction, need to pass its period\n",
    "# into lavd_grid_2D\n",
    "period_x = 6.371*pi\n",
    "\n",
    "# compute lavd\n",
    "lavd = lavd_grid_2D(flowmap, tspan, T, vort_spline, xrav, yrav, period_x = period_x)"
   ]
  },
  {
   "cell_type": "markdown",
   "metadata": {},
   "source": [
    "## LAVD-based elliptic LCS\nCompute elliptic LCS from LAVD.\n\n"
   ]
  },
  {
   "cell_type": "code",
   "execution_count": null,
   "metadata": {
    "collapsed": false
   },
   "outputs": [],
   "source": [
    "# set parameters and compute lavd-based elliptic lcs\n",
    "r = 2.5\n",
    "convexity_deficiency = 4e-3\n",
    "elcs = rotcohvrt(lavd,x,y,r,convexity_deficiency=convexity_deficiency)"
   ]
  },
  {
   "cell_type": "markdown",
   "metadata": {},
   "source": [
    "## Plot\nPlot the elliptic LCS over the LAVD field.\n\n"
   ]
  },
  {
   "cell_type": "code",
   "execution_count": null,
   "metadata": {
    "collapsed": false
   },
   "outputs": [],
   "source": [
    "# sphinx_gallery_thumbnail_number = 1\n",
    "fig,ax = plt.subplots(dpi=200)\n",
    "ax.contourf(x,y,lavd.T,levels=80)\n",
    "ax.set_aspect('equal')\n",
    "for rcv,c in elcs:\n",
    "    ax.plot(rcv[:,0],rcv[:,1],lw=1.5)\n",
    "    ax.scatter(c[0],c[1],1.5)\n",
    "plt.show()"
   ]
  },
  {
   "cell_type": "markdown",
   "metadata": {},
   "source": [
    "## Advect elliptic LCS\nAdvect an elliptic LCS and nearby filled circle of points to demonstrate\ncoherence.\n\n"
   ]
  },
  {
   "cell_type": "code",
   "execution_count": null,
   "metadata": {
    "collapsed": false
   },
   "outputs": [],
   "source": [
    "# pick an elliptic lcs and create more refined curve by interpolating\n",
    "# we pick index 2 because it is the first not on a boundary of the domain,\n",
    "# any could be choosen\n",
    "c0 = elcs[2][1]\n",
    "rcv0 = elcs[2][0]\n",
    "rcvi = interp_curve(rcv0,2500,per=1)\n",
    "\n",
    "# create a filled circle which has a center a distance delta away from\n",
    "# vortex center\n",
    "delta = 5e-1\n",
    "circ_delta = gen_filled_circ(1.5,10000,c=c0+delta)\n",
    "\n",
    "# advect both the elliptic lcs and the nearby filled circle\n",
    "frames = 401\n",
    "adv_rcv, teval = flowmap_n(funcptr,t0,T,rcvi,params,n=frames)\n",
    "adv_circ, _ = flowmap_n(funcptr,t0,T,circ_delta,params,n=frames)"
   ]
  },
  {
   "cell_type": "markdown",
   "metadata": {},
   "source": [
    "## Animate\nCreate animation of advected elliptic LCS and nearby filled circle.\n\n"
   ]
  },
  {
   "cell_type": "code",
   "execution_count": null,
   "metadata": {
    "collapsed": false
   },
   "outputs": [],
   "source": [
    "# find which points from the filled circle are inside elliptic lcs\n",
    "# for plotting purposes\n",
    "mask = pts_in_poly_mask(rcv0,circ_delta)\n",
    "\n",
    "# create plot\n",
    "fig,ax = plt.subplots(dpi = 100)\n",
    "scatter0 = ax.scatter(adv_rcv[:,0,0]%period_x,adv_rcv[:,0,1],1)\n",
    "scatter_in = ax.scatter(adv_circ[mask,0,0]%period_x,adv_circ[mask,0,1],\n",
    "                        0.5,'purple',zorder=0)\n",
    "scatter_out = ax.scatter(adv_circ[~mask,0,0]%period_x,adv_circ[~mask,0,1],\n",
    "                         0.5,'orange',zorder=0)\n",
    "ax.set_xlim([domain[0][0]+2,domain[0][1]-2])\n",
    "ax.set_ylim([domain[1][0],domain[1][1]])\n",
    "ax.set_aspect('equal')\n",
    "ax.set_title(\"t = {} days\".format(round(teval[0],1)))\n",
    "\n",
    "# function for animation\n",
    "def update(frame):\n",
    "    # for each frame, update the data stored on each artist\n",
    "    x0 = adv_rcv[:,frame,0]%period_x\n",
    "    y0 = adv_rcv[:,frame,1]\n",
    "    x_in = adv_circ[mask,frame,0]%period_x\n",
    "    y_in = adv_circ[mask,frame,1]\n",
    "    x_out = adv_circ[~mask,frame,0]%period_x\n",
    "    y_out = adv_circ[~mask,frame,1]\n",
    "    data0 = np.column_stack((x0,y0))\n",
    "    data_in = np.column_stack((x_in,y_in))\n",
    "    data_out = np.column_stack((x_out,y_out))\n",
    "\n",
    "    # update each scatter plot\n",
    "    scatter0.set_offsets(data0)\n",
    "    scatter_in.set_offsets(data_in)\n",
    "    scatter_out.set_offsets(data_out)\n",
    "\n",
    "    # update title\n",
    "    ax.set_title(\"t = {} days\".format(round(teval[frame],1)))\n",
    "\n",
    "    return (scatter0, scatter_in, scatter_out)\n",
    "\n",
    "# create animation\n",
    "ani = FuncAnimation(fig=fig, func=update, frames=frames, interval=50)\n",
    "plt.show()"
   ]
  }
 ],
 "metadata": {
  "kernelspec": {
   "display_name": "Python 3",
   "language": "python",
   "name": "python3"
  },
  "language_info": {
   "codemirror_mode": {
    "name": "ipython",
    "version": 3
   },
   "file_extension": ".py",
   "mimetype": "text/x-python",
   "name": "python",
   "nbconvert_exporter": "python",
   "pygments_lexer": "ipython3",
   "version": "3.11.9"
  }
 },
 "nbformat": 4,
 "nbformat_minor": 0
}
