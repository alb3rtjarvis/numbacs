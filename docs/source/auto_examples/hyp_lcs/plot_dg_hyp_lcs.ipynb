{
  "cells": [
    {
      "cell_type": "markdown",
      "metadata": {},
      "source": [
        "\n# Double gyre Hyperbolic LCS\n\nCompute hyperbolic LCS using the variational theory for the double gyre.\n"
      ]
    },
    {
      "cell_type": "code",
      "execution_count": null,
      "metadata": {
        "collapsed": false
      },
      "outputs": [],
      "source": [
        "# Author: ajarvis\n\nimport numpy as np\nfrom math import copysign\nfrom numbacs.flows import get_predefined_flow\nfrom numbacs.integration import flowmap_aux_grid_2D\nfrom numbacs.diagnostics import C_eig_aux_2D, ftle_from_eig\nfrom numbacs.extraction import hyperbolic_lcs\nimport matplotlib.pyplot as plt"
      ]
    },
    {
      "cell_type": "markdown",
      "metadata": {},
      "source": [
        "## Get flow\nSet the integration span and direction, retrieve the flow, and set up domain.\n\n"
      ]
    },
    {
      "cell_type": "code",
      "execution_count": null,
      "metadata": {
        "collapsed": false
      },
      "outputs": [],
      "source": [
        "# set initial time, integration time, and integration direction\nt0 = 0.0\nT = -10.0\nint_direction = copysign(1, T)\n\n# retrieve function pointer and parameters for double gyre flow.\nfuncptr, params, domain = get_predefined_flow(\"double_gyre\", int_direction=int_direction)\n\n# set up domain\nnx, ny = 401, 201\nx = np.linspace(domain[0][0], domain[0][1], nx)\ny = np.linspace(domain[1][0], domain[1][1], ny)\ndx = x[1] - x[0]\ndy = y[1] - y[0]"
      ]
    },
    {
      "cell_type": "markdown",
      "metadata": {},
      "source": [
        "## Integrate\nIntegrate grid of particles and auxillary grid with spacing h, return final positions\n\n"
      ]
    },
    {
      "cell_type": "code",
      "execution_count": null,
      "metadata": {
        "collapsed": false
      },
      "outputs": [],
      "source": [
        "# computes final position of particle trajectories over grid + auxillary grid\n# with spacing h\nh = 1e-5\nflowmap = flowmap_aux_grid_2D(funcptr, t0, T, x, y, params, h=h)"
      ]
    },
    {
      "cell_type": "markdown",
      "metadata": {},
      "source": [
        "## CG eigenvalues, eigenvectors, and FTLE\nCompute eigenvalues/vectors of CG tensor from final particle positions and compute FTLE.\n\n"
      ]
    },
    {
      "cell_type": "code",
      "execution_count": null,
      "metadata": {
        "collapsed": false
      },
      "outputs": [],
      "source": [
        "# compute eigenvalues/vectors of Cauchy Green tensor\neigvals, eigvecs = C_eig_aux_2D(flowmap, dx, dy, h=h)\neigval_max = eigvals[:, :, 1]\neigvec_max = eigvecs[:, :, :, 1]\n\n# copmute FTLE from max eigenvalue\nftle = ftle_from_eig(eigval_max, T)"
      ]
    },
    {
      "cell_type": "markdown",
      "metadata": {},
      "source": [
        "## Hyperbolic LCS\nCompute hyperbolic LCS using the variational theory.\n\n"
      ]
    },
    {
      "cell_type": "code",
      "execution_count": null,
      "metadata": {
        "collapsed": false
      },
      "outputs": [],
      "source": [
        "# set parameters for hyperbolic lcs extraction,\n# see function description for more details\nstep_size = 1e-3\nsteps = 3000\nlf = 0.1\nlmin = 1.5\nr = 0.1\nnmax = -1\ndtol = 1e-1\nnlines = 10\npercentile = 40\nep_dist_tol = 1e-2\nlambda_avg_min = 600\narclen_flag = True\n\n# extract hyperbolic lcs\nlcs = hyperbolic_lcs(\n    eigval_max,\n    eigvecs,\n    x,\n    y,\n    step_size,\n    steps,\n    lf,\n    lmin,\n    r,\n    nmax,\n    dist_tol=dtol,\n    nlines=nlines,\n    ep_dist_tol=ep_dist_tol,\n    percentile=percentile,\n    lambda_avg_min=lambda_avg_min,\n    arclen_flag=arclen_flag,\n)"
      ]
    },
    {
      "cell_type": "markdown",
      "metadata": {},
      "source": [
        "## Plot\nPlot the results.\n\n"
      ]
    },
    {
      "cell_type": "code",
      "execution_count": null,
      "metadata": {
        "collapsed": false
      },
      "outputs": [],
      "source": [
        "fig, ax = plt.subplots(dpi=200)\nax.contourf(x, y, ftle.T, levels=80)\nfor l in lcs:\n    ax.plot(l[:, 0], l[:, 1], \"r\", lw=1)\nax.set_aspect(\"equal\")\nplt.show()"
      ]
    }
  ],
  "metadata": {
    "kernelspec": {
      "display_name": "Python 3",
      "language": "python",
      "name": "python3"
    },
    "language_info": {
      "codemirror_mode": {
        "name": "ipython",
        "version": 3
      },
      "file_extension": ".py",
      "mimetype": "text/x-python",
      "name": "python",
      "nbconvert_exporter": "python",
      "pygments_lexer": "ipython3",
      "version": "3.11.9"
    }
  },
  "nbformat": 4,
  "nbformat_minor": 0
}