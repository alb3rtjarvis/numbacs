{
 "cells": [
  {
   "cell_type": "markdown",
   "metadata": {},
   "source": [
    "\n# Double gyre Hyperbolic LCS\n\nCompute hyperbolic LCS using the variational theory for the double gyre.\n"
   ]
  },
  {
   "cell_type": "code",
   "execution_count": null,
   "metadata": {
    "collapsed": false
   },
   "outputs": [],
   "source": [
    "# Author: ajarvis\n",
    "\n",
    "import numpy as np\n",
    "from math import copysign\n",
    "from numbacs.flows import get_predefined_flow\n",
    "from numbacs.integration import flowmap_aux_grid_2D\n",
    "from numbacs.diagnostics import C_eig_aux_2D, ftle_from_eig\n",
    "from numbacs.extraction import hyperbolic_lcs\n",
    "import matplotlib.pyplot as plt"
   ]
  },
  {
   "cell_type": "markdown",
   "metadata": {},
   "source": [
    "## Get flow\nSet the integration span and direction, retrieve the flow, and set up domain.\n\n"
   ]
  },
  {
   "cell_type": "code",
   "execution_count": null,
   "metadata": {
    "collapsed": false
   },
   "outputs": [],
   "source": [
    "# set initial time, integration time, and integration direction\n",
    "t0 = 0.\n",
    "T = -10.\n",
    "int_direction = copysign(1,T)\n",
    "\n",
    "# retrieve function pointer and parameters for double gyre flow.\n",
    "funcptr, params, domain = get_predefined_flow('double_gyre', int_direction = int_direction)\n",
    "\n",
    "# set up domain\n",
    "nx,ny = 401,201\n",
    "x = np.linspace(domain[0][0],domain[0][1],nx)\n",
    "y = np.linspace(domain[1][0],domain[1][1],ny)\n",
    "dx = x[1]-x[0]\n",
    "dy = y[1]-y[0]"
   ]
  },
  {
   "cell_type": "markdown",
   "metadata": {},
   "source": [
    "## Integrate\nIntegrate grid of particles and auxillary grid with spacing h, return final positions\n\n"
   ]
  },
  {
   "cell_type": "code",
   "execution_count": null,
   "metadata": {
    "collapsed": false
   },
   "outputs": [],
   "source": [
    "# computes final position of particle trajectories over grid + auxillary grid\n",
    "# with spacing h\n",
    "h = 1e-5\n",
    "flowmap = flowmap_aux_grid_2D(funcptr, t0, T, x, y, params,h=h)"
   ]
  },
  {
   "cell_type": "markdown",
   "metadata": {},
   "source": [
    "## CG eigenvalues, eigenvectors, and FTLE\nCompute eigenvalues/vectors of CG tensor from final particle positions and compute FTLE.\n\n"
   ]
  },
  {
   "cell_type": "code",
   "execution_count": null,
   "metadata": {
    "collapsed": false
   },
   "outputs": [],
   "source": [
    "# compute eigenvalues/vectors of Cauchy Green tensor\n",
    "eigvals,eigvecs = C_eig_aux_2D(flowmap, dx, dy, h=h)\n",
    "eigval_max = eigvals[:,:,1]\n",
    "eigvec_max = eigvecs[:,:,:,1]\n",
    "\n",
    "# copmute FTLE from max eigenvalue\n",
    "ftle = ftle_from_eig(eigval_max,T)"
   ]
  },
  {
   "cell_type": "markdown",
   "metadata": {},
   "source": [
    "## Hyperbolic LCS\nCompute hyperbolic LCS using the variational theory.\n\n"
   ]
  },
  {
   "cell_type": "code",
   "execution_count": null,
   "metadata": {
    "collapsed": false
   },
   "outputs": [],
   "source": [
    "# set parameters for hyperbolic lcs extraction,\n",
    "# see function description for more details\n",
    "step_size = 1e-3\n",
    "steps = 3000\n",
    "lf = 0.1\n",
    "lmin = 1.5\n",
    "r = 0.1\n",
    "nmax = -1\n",
    "dtol = 1e-1\n",
    "nlines = 10\n",
    "percentile=40\n",
    "ep_dist_tol=1e-2\n",
    "lambda_avg_min = 600\n",
    "arclen_flag=True\n",
    "\n",
    "# extract hyperbolic lcs\n",
    "lcs = hyperbolic_lcs(eigval_max, eigvecs, x, y, step_size, steps, lf, lmin, r, nmax,\n",
    "                     dist_tol=dtol,\n",
    "                     nlines=nlines,\n",
    "                     ep_dist_tol=ep_dist_tol,\n",
    "                     percentile=percentile,\n",
    "                     lambda_avg_min=lambda_avg_min,\n",
    "                     arclen_flag=arclen_flag)"
   ]
  },
  {
   "cell_type": "markdown",
   "metadata": {},
   "source": [
    "## Plot\nPlot the results.\n\n"
   ]
  },
  {
   "cell_type": "code",
   "execution_count": null,
   "metadata": {
    "collapsed": false
   },
   "outputs": [],
   "source": [
    "fig,ax = plt.subplots(dpi=200)\n",
    "ax.contourf(x,y,ftle.T,levels=80)\n",
    "for l in lcs:\n",
    "    ax.plot(l[:,0],l[:,1],'r',lw=1)\n",
    "ax.set_aspect('equal')\n",
    "plt.show()"
   ]
  }
 ],
 "metadata": {
  "kernelspec": {
   "display_name": "Python 3",
   "language": "python",
   "name": "python3"
  },
  "language_info": {
   "codemirror_mode": {
    "name": "ipython",
    "version": 3
   },
   "file_extension": ".py",
   "mimetype": "text/x-python",
   "name": "python",
   "nbconvert_exporter": "python",
   "pygments_lexer": "ipython3",
   "version": "3.11.9"
  }
 },
 "nbformat": 4,
 "nbformat_minor": 0
}