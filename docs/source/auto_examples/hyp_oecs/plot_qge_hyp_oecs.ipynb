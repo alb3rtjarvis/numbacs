{
 "cells": [
  {
   "cell_type": "markdown",
   "metadata": {},
   "source": [
    "\n# Quasi-geostrophic hyperbolic OECS\n\nCompute the hyperbolic OECS saddles for QGE flow.\n"
   ]
  },
  {
   "cell_type": "code",
   "execution_count": null,
   "metadata": {
    "collapsed": false
   },
   "outputs": [],
   "source": [
    "# Author: ajarvis\n",
    "# Data: We thank Changhong Mou and Traian Iliescu for providing us with this dataset\n",
    "#       and allowing it to be used here.\n",
    "\n",
    "import numpy as np\n",
    "from numbacs.diagnostics import S_eig_2D_data\n",
    "from numbacs.extraction import hyperbolic_oecs\n",
    "import matplotlib.pyplot as plt"
   ]
  },
  {
   "cell_type": "markdown",
   "metadata": {},
   "source": [
    "## Get flow data\nLoad velocity data and set up domain.\n\n"
   ]
  },
  {
   "cell_type": "code",
   "execution_count": null,
   "metadata": {
    "collapsed": false
   },
   "outputs": [],
   "source": [
    "# load in qge velocity data\n",
    "u = np.load('../data/qge/qge_u.npy')\n",
    "v = np.load('../data/qge/qge_v.npy')\n",
    "\n",
    "# set up domain\n",
    "nt,nx,ny = u.shape\n",
    "x = np.linspace(0,1,nx)\n",
    "y = np.linspace(0,2,ny)\n",
    "t = np.linspace(0,1,nt)\n",
    "dx = x[1]-x[0]\n",
    "dy = y[1]-y[0]"
   ]
  },
  {
   "cell_type": "markdown",
   "metadata": {},
   "source": [
    "## S eigenvalues, eigenvectors\nCompute eigenvalues/vectors of S tensor from velocity field at time t = t[k0].\n\n"
   ]
  },
  {
   "cell_type": "code",
   "execution_count": null,
   "metadata": {
    "collapsed": false
   },
   "outputs": [],
   "source": [
    "k0 = 15\n",
    "# compute eigenvalues/vectors of Eulerian rate of strain tensor\n",
    "eigvals,eigvecs = S_eig_2D_data(u[k0,:,:],v[k0,:,:],dx,dy)\n",
    "s2 = eigvals[:,:,1]"
   ]
  },
  {
   "cell_type": "markdown",
   "metadata": {},
   "source": [
    "## Hyperbolic OECS saddles\nCompute generalized saddle points and hyperbolic oecs.\n\n"
   ]
  },
  {
   "cell_type": "code",
   "execution_count": null,
   "metadata": {
    "collapsed": false
   },
   "outputs": [],
   "source": [
    "# set parameters for hyperbolic_oecs function\n",
    "r = 0.2\n",
    "h = 1e-4\n",
    "steps = 4000\n",
    "maxlen = 0.05\n",
    "minval = np.percentile(s2,50)\n",
    "n = 10\n",
    "\n",
    "# compute hyperbolic_oecs\n",
    "oecs = hyperbolic_oecs(s2,eigvecs,x,y,r,h,steps,maxlen,minval,n=n)"
   ]
  },
  {
   "cell_type": "markdown",
   "metadata": {},
   "source": [
    "## Plot all OECS\nPlot the OECS overlaid on iLE. \n\n"
   ]
  },
  {
   "cell_type": "code",
   "execution_count": null,
   "metadata": {
    "collapsed": false
   },
   "outputs": [],
   "source": [
    "fig,ax = plt.subplots(dpi=200)\n",
    "ax.contourf(x,y,s2.T,levels=np.linspace(0,np.percentile(s2,99.5),51),\n",
    "            extend='both',zorder=0)\n",
    "\n",
    "for k in range(len(oecs)):\n",
    "    ax.plot(oecs[k][0][:,0],oecs[k][0][:,1],'r',lw=1)\n",
    "    ax.plot(oecs[k][1][:,0],oecs[k][1][:,1],'b',lw=1)\n",
    "ax.set_aspect('equal')\n",
    "plt.show()"
   ]
  },
  {
   "cell_type": "markdown",
   "metadata": {},
   "source": [
    "## Advect OECS\nAdvect OECS and a circle centered at the generalized saddle point.\n\n"
   ]
  },
  {
   "cell_type": "code",
   "execution_count": null,
   "metadata": {
    "collapsed": false
   },
   "outputs": [],
   "source": [
    "# import necessary functions\n",
    "from numbacs.flows import get_interp_arrays_2D, get_flow_2D\n",
    "from numbacs.utils import gen_filled_circ\n",
    "from numbacs.integration import flowmap_n\n",
    "\n",
    "# get funcptr, set parameters for integration, and integrate\n",
    "grid_vel, C_eval_u, C_eval_v = get_interp_arrays_2D(t,x,y,u,v)\n",
    "funcptr = get_flow_2D(grid_vel, C_eval_u, C_eval_v)\n",
    "\n",
    "nc = 4000\n",
    "nT = 4\n",
    "T = 0.06\n",
    "t_eval = np.linspace(0,T,nT)\n",
    "adv_circ = []\n",
    "adv_rep = []\n",
    "adv_att = []\n",
    "t0 = t[k0]\n",
    "# advect the top 2 (in strength) OECS\n",
    "for k in range(len(oecs[:3])):\n",
    "    circ1 = gen_filled_circ(maxlen,nc,c=oecs[k][2],xlims=(0,1),ylims=(0,2))\n",
    "    adv_circ.append(flowmap_n(funcptr, t0, T, circ1, np.array([1.0]), n = nT)[0])\n",
    "    adv_rep.append(flowmap_n(funcptr, t0, T, oecs[k][0], np.array([1.0]), n = nT)[0])\n",
    "    adv_att.append(flowmap_n(funcptr, t0, T, oecs[k][1], np.array([1.0]), n = nT)[0])"
   ]
  },
  {
   "cell_type": "markdown",
   "metadata": {},
   "source": [
    "## Plot advected OECS\nPlot advected OECS at 0.00, 0.02, 0.04, and 0.06 units of time after t0.\n\n"
   ]
  },
  {
   "cell_type": "code",
   "execution_count": null,
   "metadata": {
    "collapsed": false
   },
   "outputs": [],
   "source": [
    "fig,axs = plt.subplots(nrows=1,ncols=4,sharex=True,sharey=True,dpi=200)\n",
    "axs = axs.flat\n",
    "nax = len(axs)\n",
    "for i in range(nax):\n",
    "    kt = i\n",
    "    axs[i].set_title('t0 + {:.2f}'.format(t_eval[i]))\n",
    "    for k in range(len(adv_rep)):\n",
    "        axs[i].scatter(adv_rep[k][:,kt,0],adv_rep[k][:,kt,1],1,'r',marker='.',\n",
    "                       edgecolors=None,linewidths=0)\n",
    "        axs[i].scatter(adv_att[k][:,kt,0],adv_att[k][:,kt,1],1,'b',marker='.',\n",
    "                       edgecolors=None,linewidths=0)\n",
    "        axs[i].scatter(adv_circ[k][:,kt,0],adv_circ[k][:,kt,1],0.5,'g',zorder=0)\n",
    "    axs[i].set_xlim([0,1])\n",
    "    axs[i].set_ylim([0,2])\n",
    "    axs[i].set_aspect('equal')\n",
    "plt.show()"
   ]
  }
 ],
 "metadata": {
  "kernelspec": {
   "display_name": "Python 3",
   "language": "python",
   "name": "python3"
  },
  "language_info": {
   "codemirror_mode": {
    "name": "ipython",
    "version": 3
   },
   "file_extension": ".py",
   "mimetype": "text/x-python",
   "name": "python",
   "nbconvert_exporter": "python",
   "pygments_lexer": "ipython3",
   "version": "3.11.9"
  }
 },
 "nbformat": 4,
 "nbformat_minor": 0
}