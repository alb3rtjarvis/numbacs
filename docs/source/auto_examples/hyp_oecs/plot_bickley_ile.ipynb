{
  "cells": [
    {
      "cell_type": "markdown",
      "metadata": {},
      "source": [
        "\n# Bickley jet iLE\n\nCompute the iLE field for the bickley jet.\n"
      ]
    },
    {
      "cell_type": "code",
      "execution_count": null,
      "metadata": {
        "collapsed": false
      },
      "outputs": [],
      "source": [
        "# Author: ajarvis\n\nimport numpy as np\nimport matplotlib.pyplot as plt\nfrom numbacs.flows import get_predefined_callable\nfrom numbacs.diagnostics import ile_2D_func"
      ]
    },
    {
      "cell_type": "markdown",
      "metadata": {},
      "source": [
        "## Get flow\nSet the initial time, retrieve a jit-callable for the flow, and set up domain.\n\n"
      ]
    },
    {
      "cell_type": "code",
      "execution_count": null,
      "metadata": {
        "collapsed": false
      },
      "outputs": [],
      "source": [
        "# set time at which to compute iLE\nt0 = 0.\n\n# retrieve function pointer, parameters, and domain for double gyre flow.\nvel_func, domain = get_predefined_callable('bickley_jet')\n\n# set up domain\n# set up domain\ndx = 0.05\ndy = 0.05\nx = np.arange(domain[0][0],domain[0][1]+dx,dx)\ny = np.arange(domain[1][0],domain[1][1]+dy,dy)\ndx = x[1]-x[0]\ndy = y[1]-y[0]"
      ]
    },
    {
      "cell_type": "markdown",
      "metadata": {},
      "source": [
        "## iLE\nCompute iLE from velocity function at t = t0.\n\n"
      ]
    },
    {
      "cell_type": "code",
      "execution_count": null,
      "metadata": {
        "collapsed": false
      },
      "outputs": [],
      "source": [
        "ile = ile_2D_func(vel_func, x, y, t0 = t0)"
      ]
    },
    {
      "cell_type": "markdown",
      "metadata": {},
      "source": [
        "## Plot\nPlot the results.\n\n"
      ]
    },
    {
      "cell_type": "code",
      "execution_count": null,
      "metadata": {
        "collapsed": false
      },
      "outputs": [],
      "source": [
        "fig,ax = plt.subplots(dpi=200)\nax.contourf(x,y,ile.T,levels=80)\nax.set_aspect('equal')\nplt.show()"
      ]
    }
  ],
  "metadata": {
    "kernelspec": {
      "display_name": "Python 3",
      "language": "python",
      "name": "python3"
    },
    "language_info": {
      "codemirror_mode": {
        "name": "ipython",
        "version": 3
      },
      "file_extension": ".py",
      "mimetype": "text/x-python",
      "name": "python",
      "nbconvert_exporter": "python",
      "pygments_lexer": "ipython3",
      "version": "3.11.9"
    }
  },
  "nbformat": 4,
  "nbformat_minor": 0
}
