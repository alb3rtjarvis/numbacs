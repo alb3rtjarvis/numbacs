{
 "cells": [
  {
   "cell_type": "markdown",
   "metadata": {},
   "source": [
    "\n# MERRA-2 hyperbolic OECS\n\nCompute the hyperbolic OECS saddles for atmospheric flow at time of Godzilla\ndust storm using MERRA-2 data which is vertically averaged over pressure surfaces\nranging from 500hPa to 800hPa.\n"
   ]
  },
  {
   "cell_type": "code",
   "execution_count": null,
   "metadata": {
    "collapsed": false
   },
   "outputs": [],
   "source": [
    "# Author: ajarvis\n",
    "# Data: MERRA-2 - Global Modeling and Assimilation Office - NASA\n",
    "\n",
    "import numpy as np\n",
    "from numbacs.flows import get_interp_arrays_2D, get_callable_2D\n",
    "from numbacs.diagnostics import S_eig_2D_func\n",
    "from numbacs.extraction import hyperbolic_oecs\n",
    "import matplotlib.pyplot as plt"
   ]
  },
  {
   "cell_type": "markdown",
   "metadata": {},
   "source": [
    "## Get flow data\nLoad in atmospheric velocity data, dates, and coordinates. Set domain for \niLE computation, set time, and retrieve jit-callable function for velocity data.\n\n<div class=\"alert alert-info\"><h4>Note</h4><p>Pandas is a simpler option for storing and manipulating dates but we use\n   numpy here as Pandas is not a dependency.</p></div>\n\n"
   ]
  },
  {
   "cell_type": "code",
   "execution_count": null,
   "metadata": {
    "collapsed": false
   },
   "outputs": [],
   "source": [
    "# load in atmospheric data\n",
    "dates = np.load('../data/merra_june2020/dates.npy')\n",
    "dt = (dates[1] - dates[0]).astype('timedelta64[h]').astype(int)\n",
    "t = np.arange(0,len(dates)*dt,dt,np.float64)\n",
    "lon = np.load('../data/merra_june2020/lon.npy')\n",
    "lat = np.load('../data/merra_june2020/lat.npy')\n",
    "\n",
    "# NumbaCS uses 'ij' indexing, most geophysical data uses 'xy'\n",
    "# indexing for the spatial coordintes. We need to switch axes and\n",
    "# scale by 3.6 since velocity data is in m/s and we want km/hr.\n",
    "u = np.moveaxis(np.load('../data/merra_june2020/u_500_800hPa.npy'),1,2)*3.6\n",
    "v = np.moveaxis(np.load('../data/merra_june2020/v_500_800hPa.npy'),1,2)*3.6\n",
    "nt,nx,ny = u.shape\n",
    "\n",
    "# set more refined domain on which iLE will be computed\n",
    "dx = 0.15\n",
    "dy = 0.15\n",
    "lonf = np.arange(-35,25+dx,dx)\n",
    "latf = np.arange(-5,40+dy,dy)\n",
    "\n",
    "\n",
    "# get interpolant arrays of velocity field\n",
    "grid_vel, C_eval_u, C_eval_v = get_interp_arrays_2D(t, lon, lat, u, v)\n",
    "\n",
    "# get jit-callable interpolant of velocity data\n",
    "vel_func = get_callable_2D(grid_vel, C_eval_u, C_eval_v, spherical=1)\n",
    "\n",
    "# set time at which hyperbolic OECS will be computed\n",
    "day = 20\n",
    "t0_date = np.datetime64(\"2020-06-{:02d}\".format(day))\n",
    "t0 = t[np.nonzero(dates == t0_date)[0][0]]"
   ]
  },
  {
   "cell_type": "markdown",
   "metadata": {},
   "source": [
    "## S eigenvalues, eigenvectors\nCompute eigenvalues/vectors of S tensor from velocity field at time t = t0.\n\n"
   ]
  },
  {
   "cell_type": "code",
   "execution_count": null,
   "metadata": {
    "collapsed": false
   },
   "outputs": [],
   "source": [
    "# compute eigenvalues/vectors of Eulerian rate of strain tensor\n",
    "eigvals,eigvecs = S_eig_2D_func(vel_func,lonf,latf,h=1e-3,t0=t0)\n",
    "s2 = eigvals[:,:,1]"
   ]
  },
  {
   "cell_type": "markdown",
   "metadata": {},
   "source": [
    "## Hyperbolic OECS saddles\nCompute generalized saddle points and hyperbolic oecs.\n\n"
   ]
  },
  {
   "cell_type": "code",
   "execution_count": null,
   "metadata": {
    "collapsed": false
   },
   "outputs": [],
   "source": [
    "# set parameters for hyperbolic_oecs function\n",
    "r = 5\n",
    "h = 1e-3\n",
    "steps = 4000\n",
    "maxlen = 1.5\n",
    "minval = np.percentile(s2,50)\n",
    "n = 10\n",
    "\n",
    "# compute hyperbolic_oecs\n",
    "oecs = hyperbolic_oecs(s2,eigvecs,lonf,latf,r,h,steps,maxlen,minval,n=n)"
   ]
  },
  {
   "cell_type": "markdown",
   "metadata": {},
   "source": [
    "## Plot all OECS\nPlot the OECS overlaid on iLE. \n\n<div class=\"alert alert-info\"><h4>Note</h4><p>Cartopy is a useful package for geophysical plotting but it is not\n   a dependency so we use matplotlib here.</p></div>\n\n"
   ]
  },
  {
   "cell_type": "code",
   "execution_count": null,
   "metadata": {
    "collapsed": false
   },
   "outputs": [],
   "source": [
    "coastlines = np.load('../data/merra_june2020/coastlines.npy')\n",
    "fig,ax = plt.subplots(dpi=200)\n",
    "ax.scatter(coastlines[:,0],coastlines[:,1],1,'k',marker='.',edgecolors=None,\n",
    "           linewidths=0,zorder=1)\n",
    "ax.contourf(lonf,latf,s2.T,levels=np.linspace(0,np.percentile(s2,99.5),51),\n",
    "            extend='both',zorder=0)\n",
    "\n",
    "for k in range(len(oecs)):\n",
    "    ax.plot(oecs[k][0][:,0],oecs[k][0][:,1],'r',lw=1)\n",
    "    ax.plot(oecs[k][1][:,0],oecs[k][1][:,1],'b',lw=1)\n",
    "ax.set_xlim([lonf[0],lonf[-1]])\n",
    "ax.set_ylim([latf[0],latf[-1]])\n",
    "ax.set_aspect('equal')\n",
    "plt.show()"
   ]
  },
  {
   "cell_type": "markdown",
   "metadata": {},
   "source": [
    "## Advect OECS\nAdvect OECS and a circle centered at the generalized saddle point.\n\n"
   ]
  },
  {
   "cell_type": "code",
   "execution_count": null,
   "metadata": {
    "collapsed": false
   },
   "outputs": [],
   "source": [
    "# import necessary functions\n",
    "from numbacs.flows import get_flow_2D\n",
    "from numbacs.utils import gen_filled_circ\n",
    "from numbacs.integration import flowmap_n\n",
    "\n",
    "# get funcptr, set parameters for integration, and integrate\n",
    "funcptr = get_flow_2D(grid_vel, C_eval_u, C_eval_v, spherical = 1)\n",
    "nc = 1000\n",
    "nT = 4\n",
    "T = 24.\n",
    "t_eval = np.linspace(0,T,nT)\n",
    "adv_circ = []\n",
    "adv_rep = []\n",
    "adv_att = []\n",
    "\n",
    "# advect the top 3 (in strength) OECS\n",
    "for k in range(len(oecs[:3])):\n",
    "    circ1 = gen_filled_circ(r-3.5,nc,c=oecs[k][2])\n",
    "    adv_circ.append(flowmap_n(funcptr, t0, T, circ1, np.array([1.0]), n = nT)[0])\n",
    "    adv_rep.append(flowmap_n(funcptr, t0, T, oecs[k][0], np.array([1.0]), n = nT)[0])\n",
    "    adv_att.append(flowmap_n(funcptr, t0, T, oecs[k][1], np.array([1.0]), n = nT)[0])"
   ]
  },
  {
   "cell_type": "markdown",
   "metadata": {},
   "source": [
    "## Plot advected OECS\nPlot advected OECS at 0, 8, 16, and 24 hours after t0.\n\n"
   ]
  },
  {
   "cell_type": "code",
   "execution_count": null,
   "metadata": {
    "collapsed": false
   },
   "outputs": [],
   "source": [
    "fig,axs = plt.subplots(nrows=2,ncols=2,sharex=True,sharey=True,dpi=200)\n",
    "axs = axs.flat\n",
    "nax = len(axs)\n",
    "for i in range(nax):\n",
    "    axs[i].scatter(coastlines[:,0],coastlines[:,1],1,'k',marker='.',\n",
    "                   edgecolors=None,linewidths=0,zorder=1)\n",
    "    kt = i\n",
    "    axs[i].set_title('t0 + {:02d}hrs'.format(round(t_eval[i])))\n",
    "    for k in range(len(adv_rep)):\n",
    "        axs[i].scatter(adv_rep[k][:,kt,0],adv_rep[k][:,kt,1],1,'r',marker='.',\n",
    "                       edgecolors=None,linewidths=0)\n",
    "        axs[i].scatter(adv_att[k][:,kt,0],adv_att[k][:,kt,1],1,'b',marker='.',\n",
    "                       edgecolors=None,linewidths=0)\n",
    "        axs[i].scatter(adv_circ[k][:,kt,0],adv_circ[k][:,kt,1],0.5,'g',zorder=0)\n",
    "    axs[i].set_xlim([lonf[0],lonf[-1]+10])\n",
    "    axs[i].set_ylim([latf[0],latf[-1]])\n",
    "    axs[i].set_aspect('equal')\n",
    "plt.show()"
   ]
  }
 ],
 "metadata": {
  "kernelspec": {
   "display_name": "Python 3",
   "language": "python",
   "name": "python3"
  },
  "language_info": {
   "codemirror_mode": {
    "name": "ipython",
    "version": 3
   },
   "file_extension": ".py",
   "mimetype": "text/x-python",
   "name": "python",
   "nbconvert_exporter": "python",
   "pygments_lexer": "ipython3",
   "version": "3.11.9"
  }
 },
 "nbformat": 4,
 "nbformat_minor": 0
}