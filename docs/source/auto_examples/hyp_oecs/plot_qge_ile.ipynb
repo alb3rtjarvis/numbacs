{
  "cells": [
    {
      "cell_type": "markdown",
      "metadata": {},
      "source": [
        "\n# Quasi-geostraphic iLE\n\nCompute the iLE field for the QGE.\n"
      ]
    },
    {
      "cell_type": "code",
      "execution_count": null,
      "metadata": {
        "collapsed": false
      },
      "outputs": [],
      "source": [
        "# Author: ajarvis\n# Data: We thank Changhong Mou and Traian Iliescu for providing us with this dataset\n#       and allowing it to be used here.\n\nimport numpy as np\nimport matplotlib.pyplot as plt\nfrom numbacs.diagnostics import ile_2D_data"
      ]
    },
    {
      "cell_type": "markdown",
      "metadata": {},
      "source": [
        "## Get flow data\nLoad velocity data and set up domain.\n\n"
      ]
    },
    {
      "cell_type": "code",
      "execution_count": null,
      "metadata": {
        "collapsed": false
      },
      "outputs": [],
      "source": [
        "# load in qge velocity data\nu = np.load(\"../data/qge/qge_u.npy\")\nv = np.load(\"../data/qge/qge_v.npy\")\n\n# set up domain\nnt, nx, ny = u.shape\nx = np.linspace(0, 1, nx)\ny = np.linspace(0, 2, ny)\nt = np.linspace(0, 1, nt)\ndx = x[1] - x[0]\ndy = y[1] - y[0]"
      ]
    },
    {
      "cell_type": "markdown",
      "metadata": {},
      "source": [
        "## iLE\nCompute iLE field from velocity data directly at time t[k].\n\n"
      ]
    },
    {
      "cell_type": "code",
      "execution_count": null,
      "metadata": {
        "collapsed": false
      },
      "outputs": [],
      "source": [
        "k = 15\nile = ile_2D_data(u[k, :, :], v[k, :, :], dx, dy)"
      ]
    },
    {
      "cell_type": "markdown",
      "metadata": {},
      "source": [
        "## Plot\nPlot the results.\n\n"
      ]
    },
    {
      "cell_type": "code",
      "execution_count": null,
      "metadata": {
        "collapsed": false
      },
      "outputs": [],
      "source": [
        "fig, ax = plt.subplots(dpi=200)\nax.contourf(\n    x, y, ile.T, levels=np.linspace(0, np.percentile(ile, 99.5), 51), extend=\"both\", zorder=0\n)\nax.set_aspect(\"equal\")\nplt.show()"
      ]
    }
  ],
  "metadata": {
    "kernelspec": {
      "display_name": "Python 3",
      "language": "python",
      "name": "python3"
    },
    "language_info": {
      "codemirror_mode": {
        "name": "ipython",
        "version": 3
      },
      "file_extension": ".py",
      "mimetype": "text/x-python",
      "name": "python",
      "nbconvert_exporter": "python",
      "pygments_lexer": "ipython3",
      "version": "3.11.9"
    }
  },
  "nbformat": 4,
  "nbformat_minor": 0
}