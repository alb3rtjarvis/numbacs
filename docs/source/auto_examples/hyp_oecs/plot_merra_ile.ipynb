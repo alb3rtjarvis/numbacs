{
  "cells": [
    {
      "cell_type": "markdown",
      "metadata": {},
      "source": [
        "\n# MERRA iLE\n\nCompute the iLE field and for atmospheric flow at time of Godzilla dust\nstorm using MERRA-2 data which is vertically averaged over pressure surfaces\nranging from 500hPa to 800hPa.\n"
      ]
    },
    {
      "cell_type": "code",
      "execution_count": null,
      "metadata": {
        "collapsed": false
      },
      "outputs": [],
      "source": [
        "# Author: ajarvis\n# Data: MERRA-2 - Global Modeling and Assimilation Office - NASA\n\nimport numpy as np\nimport matplotlib.pyplot as plt\nfrom numbacs.flows import get_interp_arrays_2D, get_callable_2D\nfrom numbacs.diagnostics import ile_2D_func"
      ]
    },
    {
      "cell_type": "markdown",
      "metadata": {},
      "source": [
        "## Get flow data\nLoad in atmospheric velocity data, dates, and coordinates. Set domain for\niLE computation, set time, and retrieve jit-callable function for velocity data.\n\n<div class=\"alert alert-info\"><h4>Note</h4><p>Pandas is a simpler option for storing and manipulating dates but we use\n   numpy here as Pandas is not a dependency.</p></div>\n\n"
      ]
    },
    {
      "cell_type": "code",
      "execution_count": null,
      "metadata": {
        "collapsed": false
      },
      "outputs": [],
      "source": [
        "# load in atmospheric data\ndates = np.load(\"../data/merra_june2020/dates.npy\")\ndt = (dates[1] - dates[0]).astype(\"timedelta64[h]\").astype(int)\nt = np.arange(0, len(dates) * dt, dt, np.float64)\nlon = np.load(\"../data/merra_june2020/lon.npy\")\nlat = np.load(\"../data/merra_june2020/lat.npy\")\n\n# NumbaCS uses 'ij' indexing, most geophysical data uses 'xy'\n# indexing for the spatial coordintes. We need to switch axes and\n# scale by 3.6 since velocity data is in m/s and we want km/hr.\nu = np.moveaxis(np.load(\"../data/merra_june2020/u_500_800hPa.npy\"), 1, 2) * 3.6\nv = np.moveaxis(np.load(\"../data/merra_june2020/v_500_800hPa.npy\"), 1, 2) * 3.6\nnt, nx, ny = u.shape\n\n# set domain more refined domain on which iLE will be computed\ndx = 0.15\ndy = 0.15\nlonf = np.arange(-35, 25 + dx, dx)\nlatf = np.arange(-5, 40 + dy, dy)\n\n# get interpolant arrays of velocity field\ngrid_vel, C_eval_u, C_eval_v = get_interp_arrays_2D(t, lon, lat, u, v)\n\n# get jit-callable interpolant of velocity data\nvel_func = get_callable_2D(grid_vel, C_eval_u, C_eval_v, spherical=1)\n\n# set time at which iLE will be computed\nday = 20\nt0_date = np.datetime64(f\"2020-06-{day:02d}\")\nt0 = t[np.nonzero(dates == t0_date)[0][0]]"
      ]
    },
    {
      "cell_type": "markdown",
      "metadata": {},
      "source": [
        "## iLE\nCompute iLE field from velocity data directly at time t0.\n\n"
      ]
    },
    {
      "cell_type": "code",
      "execution_count": null,
      "metadata": {
        "collapsed": false
      },
      "outputs": [],
      "source": [
        "ile = ile_2D_func(vel_func, lonf, latf, t0=t0, h=1e-2)"
      ]
    },
    {
      "cell_type": "markdown",
      "metadata": {},
      "source": [
        "## Plot\nPlot the results. Using the cartopy package for plotting geophysical data is\nadvised but it is not a dependency so we simply use matplotlib.\n\n"
      ]
    },
    {
      "cell_type": "code",
      "execution_count": null,
      "metadata": {
        "collapsed": false
      },
      "outputs": [],
      "source": [
        "coastlines = np.load(\"../data/merra_june2020/coastlines.npy\")\nfig, ax = plt.subplots(dpi=200)\nax.scatter(coastlines[:, 0], coastlines[:, 1], 1, \"k\", marker=\".\", edgecolors=None, linewidths=0)\nax.contourf(\n    lonf, latf, ile.T, levels=np.linspace(0, np.percentile(ile, 99.5), 51), extend=\"both\", zorder=0\n)\nax.set_xlim([lonf[0], lonf[-1]])\nax.set_ylim([latf[0], latf[-1]])\nax.set_aspect(\"equal\")\nplt.show()"
      ]
    }
  ],
  "metadata": {
    "kernelspec": {
      "display_name": "Python 3",
      "language": "python",
      "name": "python3"
    },
    "language_info": {
      "codemirror_mode": {
        "name": "ipython",
        "version": 3
      },
      "file_extension": ".py",
      "mimetype": "text/x-python",
      "name": "python",
      "nbconvert_exporter": "python",
      "pygments_lexer": "ipython3",
      "version": "3.11.9"
    }
  },
  "nbformat": 4,
  "nbformat_minor": 0
}
